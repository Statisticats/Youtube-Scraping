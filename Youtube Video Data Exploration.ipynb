{
  "nbformat": 4,
  "nbformat_minor": 0,
  "metadata": {
    "colab": {
      "name": "Salinan dari Youtube Data Exploration : KompasTV.ipynb",
      "provenance": [],
      "collapsed_sections": []
    },
    "kernelspec": {
      "name": "python3",
      "display_name": "Python 3"
    },
    "language_info": {
      "name": "python"
    }
  },
  "cells": [
    {
      "cell_type": "markdown",
      "source": [
        "**Eksplorasi Video Youtube** "
      ],
      "metadata": {
        "id": "04B50g1zmJfF"
      }
    },
    {
      "cell_type": "markdown",
      "source": [
        "##   **Penyesuaian Format Data**"
      ],
      "metadata": {
        "id": "tftclOw9dF86"
      }
    },
    {
      "cell_type": "code",
      "source": [
        "video_kompas = pd.read_csv('/content/video_kompas.csv')\n",
        "video_kompas.head()"
      ],
      "metadata": {
        "id": "LN71DhlTAOe7",
        "colab": {
          "base_uri": "https://localhost:8080/",
          "height": 441
        },
        "outputId": "8d05f41e-b03a-46cd-ec42-c325dbe633b4"
      },
      "execution_count": null,
      "outputs": [
        {
          "output_type": "execute_result",
          "data": {
            "text/plain": [
              "   Unnamed: 0      VideoID                                              Title  \\\n",
              "0           0  ON6og3IJMjw  Update Corona 28 April 2022: 412 Kasus Baru Co...   \n",
              "1           1  s6A90YfBAOY  6 Tips Mudik Naik Motor, Cek Kendaraan Hingga ...   \n",
              "2           2  _CHGS_4AuBc  Tol Dalam Kota Mulai Padat, Didominasi Kendara...   \n",
              "3           3  3RSP7kgbXuQ  Hati-hati! Lakukan Ini Supaya Terhindar dari P...   \n",
              "4           4  O3P3GBwIM74  Waspada Maling Data Pribadi Lewat Aplikasi di ...   \n",
              "\n",
              "            PublishedAt                                               Tags  \\\n",
              "0  2022-04-28T13:43:34Z  ['covid 19', 'update corona 28 april 2022', 'v...   \n",
              "1  2022-04-28T13:30:34Z  ['hari raya idul fitri', 'mudik', 'mudik lebar...   \n",
              "2  2022-04-28T13:24:48Z  ['lalu lintas arus mudik', 'mudik lebaran 2022...   \n",
              "3  2022-04-28T13:03:17Z  ['cara menghindari pencopet', 'modus modus pen...   \n",
              "4  2022-04-28T12:44:23Z  ['11 aplikasi pencuri data pribadi', 'aplikasi...   \n",
              "\n",
              "   Duration  Likes  Views  CommentCount  \n",
              "0   PT1M19S      7    729             4  \n",
              "1   PT1M19S      6    574             1  \n",
              "2  PT12M32S     26   2204             1  \n",
              "3   PT1M14S     12   2354             3  \n",
              "4   PT7M12S     13    747             1  "
            ],
            "text/html": [
              "\n",
              "  <div id=\"df-00f036e7-38b4-4261-9a88-32577f1316f7\">\n",
              "    <div class=\"colab-df-container\">\n",
              "      <div>\n",
              "<style scoped>\n",
              "    .dataframe tbody tr th:only-of-type {\n",
              "        vertical-align: middle;\n",
              "    }\n",
              "\n",
              "    .dataframe tbody tr th {\n",
              "        vertical-align: top;\n",
              "    }\n",
              "\n",
              "    .dataframe thead th {\n",
              "        text-align: right;\n",
              "    }\n",
              "</style>\n",
              "<table border=\"1\" class=\"dataframe\">\n",
              "  <thead>\n",
              "    <tr style=\"text-align: right;\">\n",
              "      <th></th>\n",
              "      <th>Unnamed: 0</th>\n",
              "      <th>VideoID</th>\n",
              "      <th>Title</th>\n",
              "      <th>PublishedAt</th>\n",
              "      <th>Tags</th>\n",
              "      <th>Duration</th>\n",
              "      <th>Likes</th>\n",
              "      <th>Views</th>\n",
              "      <th>CommentCount</th>\n",
              "    </tr>\n",
              "  </thead>\n",
              "  <tbody>\n",
              "    <tr>\n",
              "      <th>0</th>\n",
              "      <td>0</td>\n",
              "      <td>ON6og3IJMjw</td>\n",
              "      <td>Update Corona 28 April 2022: 412 Kasus Baru Co...</td>\n",
              "      <td>2022-04-28T13:43:34Z</td>\n",
              "      <td>['covid 19', 'update corona 28 april 2022', 'v...</td>\n",
              "      <td>PT1M19S</td>\n",
              "      <td>7</td>\n",
              "      <td>729</td>\n",
              "      <td>4</td>\n",
              "    </tr>\n",
              "    <tr>\n",
              "      <th>1</th>\n",
              "      <td>1</td>\n",
              "      <td>s6A90YfBAOY</td>\n",
              "      <td>6 Tips Mudik Naik Motor, Cek Kendaraan Hingga ...</td>\n",
              "      <td>2022-04-28T13:30:34Z</td>\n",
              "      <td>['hari raya idul fitri', 'mudik', 'mudik lebar...</td>\n",
              "      <td>PT1M19S</td>\n",
              "      <td>6</td>\n",
              "      <td>574</td>\n",
              "      <td>1</td>\n",
              "    </tr>\n",
              "    <tr>\n",
              "      <th>2</th>\n",
              "      <td>2</td>\n",
              "      <td>_CHGS_4AuBc</td>\n",
              "      <td>Tol Dalam Kota Mulai Padat, Didominasi Kendara...</td>\n",
              "      <td>2022-04-28T13:24:48Z</td>\n",
              "      <td>['lalu lintas arus mudik', 'mudik lebaran 2022...</td>\n",
              "      <td>PT12M32S</td>\n",
              "      <td>26</td>\n",
              "      <td>2204</td>\n",
              "      <td>1</td>\n",
              "    </tr>\n",
              "    <tr>\n",
              "      <th>3</th>\n",
              "      <td>3</td>\n",
              "      <td>3RSP7kgbXuQ</td>\n",
              "      <td>Hati-hati! Lakukan Ini Supaya Terhindar dari P...</td>\n",
              "      <td>2022-04-28T13:03:17Z</td>\n",
              "      <td>['cara menghindari pencopet', 'modus modus pen...</td>\n",
              "      <td>PT1M14S</td>\n",
              "      <td>12</td>\n",
              "      <td>2354</td>\n",
              "      <td>3</td>\n",
              "    </tr>\n",
              "    <tr>\n",
              "      <th>4</th>\n",
              "      <td>4</td>\n",
              "      <td>O3P3GBwIM74</td>\n",
              "      <td>Waspada Maling Data Pribadi Lewat Aplikasi di ...</td>\n",
              "      <td>2022-04-28T12:44:23Z</td>\n",
              "      <td>['11 aplikasi pencuri data pribadi', 'aplikasi...</td>\n",
              "      <td>PT7M12S</td>\n",
              "      <td>13</td>\n",
              "      <td>747</td>\n",
              "      <td>1</td>\n",
              "    </tr>\n",
              "  </tbody>\n",
              "</table>\n",
              "</div>\n",
              "      <button class=\"colab-df-convert\" onclick=\"convertToInteractive('df-00f036e7-38b4-4261-9a88-32577f1316f7')\"\n",
              "              title=\"Convert this dataframe to an interactive table.\"\n",
              "              style=\"display:none;\">\n",
              "        \n",
              "  <svg xmlns=\"http://www.w3.org/2000/svg\" height=\"24px\"viewBox=\"0 0 24 24\"\n",
              "       width=\"24px\">\n",
              "    <path d=\"M0 0h24v24H0V0z\" fill=\"none\"/>\n",
              "    <path d=\"M18.56 5.44l.94 2.06.94-2.06 2.06-.94-2.06-.94-.94-2.06-.94 2.06-2.06.94zm-11 1L8.5 8.5l.94-2.06 2.06-.94-2.06-.94L8.5 2.5l-.94 2.06-2.06.94zm10 10l.94 2.06.94-2.06 2.06-.94-2.06-.94-.94-2.06-.94 2.06-2.06.94z\"/><path d=\"M17.41 7.96l-1.37-1.37c-.4-.4-.92-.59-1.43-.59-.52 0-1.04.2-1.43.59L10.3 9.45l-7.72 7.72c-.78.78-.78 2.05 0 2.83L4 21.41c.39.39.9.59 1.41.59.51 0 1.02-.2 1.41-.59l7.78-7.78 2.81-2.81c.8-.78.8-2.07 0-2.86zM5.41 20L4 18.59l7.72-7.72 1.47 1.35L5.41 20z\"/>\n",
              "  </svg>\n",
              "      </button>\n",
              "      \n",
              "  <style>\n",
              "    .colab-df-container {\n",
              "      display:flex;\n",
              "      flex-wrap:wrap;\n",
              "      gap: 12px;\n",
              "    }\n",
              "\n",
              "    .colab-df-convert {\n",
              "      background-color: #E8F0FE;\n",
              "      border: none;\n",
              "      border-radius: 50%;\n",
              "      cursor: pointer;\n",
              "      display: none;\n",
              "      fill: #1967D2;\n",
              "      height: 32px;\n",
              "      padding: 0 0 0 0;\n",
              "      width: 32px;\n",
              "    }\n",
              "\n",
              "    .colab-df-convert:hover {\n",
              "      background-color: #E2EBFA;\n",
              "      box-shadow: 0px 1px 2px rgba(60, 64, 67, 0.3), 0px 1px 3px 1px rgba(60, 64, 67, 0.15);\n",
              "      fill: #174EA6;\n",
              "    }\n",
              "\n",
              "    [theme=dark] .colab-df-convert {\n",
              "      background-color: #3B4455;\n",
              "      fill: #D2E3FC;\n",
              "    }\n",
              "\n",
              "    [theme=dark] .colab-df-convert:hover {\n",
              "      background-color: #434B5C;\n",
              "      box-shadow: 0px 1px 3px 1px rgba(0, 0, 0, 0.15);\n",
              "      filter: drop-shadow(0px 1px 2px rgba(0, 0, 0, 0.3));\n",
              "      fill: #FFFFFF;\n",
              "    }\n",
              "  </style>\n",
              "\n",
              "      <script>\n",
              "        const buttonEl =\n",
              "          document.querySelector('#df-00f036e7-38b4-4261-9a88-32577f1316f7 button.colab-df-convert');\n",
              "        buttonEl.style.display =\n",
              "          google.colab.kernel.accessAllowed ? 'block' : 'none';\n",
              "\n",
              "        async function convertToInteractive(key) {\n",
              "          const element = document.querySelector('#df-00f036e7-38b4-4261-9a88-32577f1316f7');\n",
              "          const dataTable =\n",
              "            await google.colab.kernel.invokeFunction('convertToInteractive',\n",
              "                                                     [key], {});\n",
              "          if (!dataTable) return;\n",
              "\n",
              "          const docLinkHtml = 'Like what you see? Visit the ' +\n",
              "            '<a target=\"_blank\" href=https://colab.research.google.com/notebooks/data_table.ipynb>data table notebook</a>'\n",
              "            + ' to learn more about interactive tables.';\n",
              "          element.innerHTML = '';\n",
              "          dataTable['output_type'] = 'display_data';\n",
              "          await google.colab.output.renderOutput(dataTable, element);\n",
              "          const docLink = document.createElement('div');\n",
              "          docLink.innerHTML = docLinkHtml;\n",
              "          element.appendChild(docLink);\n",
              "        }\n",
              "      </script>\n",
              "    </div>\n",
              "  </div>\n",
              "  "
            ]
          },
          "metadata": {},
          "execution_count": 2
        }
      ]
    },
    {
      "cell_type": "code",
      "source": [
        "video_kompas = video_kompas.drop(video_kompas.columns[0], 1)"
      ],
      "metadata": {
        "colab": {
          "base_uri": "https://localhost:8080/"
        },
        "id": "w20P79gKGGqK",
        "outputId": "3e987baf-a069-4fde-e1cc-2f8d0f83e056"
      },
      "execution_count": null,
      "outputs": [
        {
          "output_type": "stream",
          "name": "stderr",
          "text": [
            "/usr/local/lib/python3.7/dist-packages/ipykernel_launcher.py:1: FutureWarning: In a future version of pandas all arguments of DataFrame.drop except for the argument 'labels' will be keyword-only\n",
            "  \"\"\"Entry point for launching an IPython kernel.\n"
          ]
        }
      ]
    },
    {
      "cell_type": "code",
      "source": [
        "video_kompas = video_kompas.drop_duplicates(subset = 'VideoID')"
      ],
      "metadata": {
        "id": "kW38pXSiw3Xa"
      },
      "execution_count": null,
      "outputs": []
    },
    {
      "cell_type": "markdown",
      "source": [
        "Data yang dihasilkan memungkinkan adanya duplikasi baris sehingga perlu dihapus terlebih dahulu. "
      ],
      "metadata": {
        "id": "dcKmWuD0xPev"
      }
    },
    {
      "cell_type": "code",
      "source": [
        "video_kompas['PublishedAt'] = pd.to_datetime(video_kompas['PublishedAt']).dt.date\n",
        "video_kompas['Likes'] = pd.to_numeric(video_kompas['Likes'])\n",
        "video_kompas['Views'] = pd.to_numeric(video_kompas['Views'])\n",
        "video_kompas['CommentCount'] = pd.to_numeric(video_kompas['CommentCount'])"
      ],
      "metadata": {
        "id": "0jAWrFaZFWFo"
      },
      "execution_count": null,
      "outputs": []
    },
    {
      "cell_type": "markdown",
      "source": [
        "Kolom *PublishedAt* diubah menjadi format tanggal. Kolom *Likes*, *Views*, dan *CommentCount* sebelumnya berformat character sehingga diubah menjadi format numeric. Untuk kolom *Duration*, format data akan diubah menjadi total detik. Untuk mengubah format data tersebut dibutuhkan package **isodate**."
      ],
      "metadata": {
        "id": "hN1CW7i6rs_l"
      }
    },
    {
      "cell_type": "code",
      "source": [
        "pip install isodate"
      ],
      "metadata": {
        "id": "m7GsoAXxAg1j",
        "colab": {
          "base_uri": "https://localhost:8080/"
        },
        "outputId": "84e7a0c6-2e97-4d1b-d46b-2f56b6a2ea70"
      },
      "execution_count": null,
      "outputs": [
        {
          "output_type": "stream",
          "name": "stdout",
          "text": [
            "Collecting isodate\n",
            "  Downloading isodate-0.6.1-py2.py3-none-any.whl (41 kB)\n",
            "\u001b[?25l\r\u001b[K     |███████▉                        | 10 kB 24.0 MB/s eta 0:00:01\r\u001b[K     |███████████████▊                | 20 kB 14.1 MB/s eta 0:00:01\r\u001b[K     |███████████████████████▋        | 30 kB 10.0 MB/s eta 0:00:01\r\u001b[K     |███████████████████████████████▍| 40 kB 8.5 MB/s eta 0:00:01\r\u001b[K     |████████████████████████████████| 41 kB 337 kB/s \n",
            "\u001b[?25hRequirement already satisfied: six in /usr/local/lib/python3.7/dist-packages (from isodate) (1.15.0)\n",
            "Installing collected packages: isodate\n",
            "Successfully installed isodate-0.6.1\n"
          ]
        }
      ]
    },
    {
      "cell_type": "code",
      "source": [
        "import isodate"
      ],
      "metadata": {
        "id": "ZtKurBmYyzKN"
      },
      "execution_count": null,
      "outputs": []
    },
    {
      "cell_type": "code",
      "source": [
        "video_kompas['Duration'] = video_kompas['Duration'].apply(\n",
        "    lambda row: isodate.parse_duration(row).total_seconds()\n",
        ")"
      ],
      "metadata": {
        "id": "9CzX7ZinMiII"
      },
      "execution_count": null,
      "outputs": []
    },
    {
      "cell_type": "code",
      "source": [
        "video_kompas.head()"
      ],
      "metadata": {
        "colab": {
          "base_uri": "https://localhost:8080/",
          "height": 337
        },
        "id": "41JhKTS4V41Y",
        "outputId": "2a649127-f4d7-4b62-be0a-da482339afdb"
      },
      "execution_count": null,
      "outputs": [
        {
          "output_type": "execute_result",
          "data": {
            "text/plain": [
              "       VideoID                                              Title PublishedAt  \\\n",
              "0  ON6og3IJMjw  Update Corona 28 April 2022: 412 Kasus Baru Co...  2022-04-28   \n",
              "1  s6A90YfBAOY  6 Tips Mudik Naik Motor, Cek Kendaraan Hingga ...  2022-04-28   \n",
              "2  _CHGS_4AuBc  Tol Dalam Kota Mulai Padat, Didominasi Kendara...  2022-04-28   \n",
              "3  3RSP7kgbXuQ  Hati-hati! Lakukan Ini Supaya Terhindar dari P...  2022-04-28   \n",
              "4  O3P3GBwIM74  Waspada Maling Data Pribadi Lewat Aplikasi di ...  2022-04-28   \n",
              "\n",
              "                                                Tags  Duration  Likes  Views  \\\n",
              "0  ['covid 19', 'update corona 28 april 2022', 'v...      79.0      7    729   \n",
              "1  ['hari raya idul fitri', 'mudik', 'mudik lebar...      79.0      6    574   \n",
              "2  ['lalu lintas arus mudik', 'mudik lebaran 2022...     752.0     26   2204   \n",
              "3  ['cara menghindari pencopet', 'modus modus pen...      74.0     12   2354   \n",
              "4  ['11 aplikasi pencuri data pribadi', 'aplikasi...     432.0     13    747   \n",
              "\n",
              "   CommentCount  \n",
              "0             4  \n",
              "1             1  \n",
              "2             1  \n",
              "3             3  \n",
              "4             1  "
            ],
            "text/html": [
              "\n",
              "  <div id=\"df-ae1df2cf-e3e9-4de8-a437-49b962e1aad7\">\n",
              "    <div class=\"colab-df-container\">\n",
              "      <div>\n",
              "<style scoped>\n",
              "    .dataframe tbody tr th:only-of-type {\n",
              "        vertical-align: middle;\n",
              "    }\n",
              "\n",
              "    .dataframe tbody tr th {\n",
              "        vertical-align: top;\n",
              "    }\n",
              "\n",
              "    .dataframe thead th {\n",
              "        text-align: right;\n",
              "    }\n",
              "</style>\n",
              "<table border=\"1\" class=\"dataframe\">\n",
              "  <thead>\n",
              "    <tr style=\"text-align: right;\">\n",
              "      <th></th>\n",
              "      <th>VideoID</th>\n",
              "      <th>Title</th>\n",
              "      <th>PublishedAt</th>\n",
              "      <th>Tags</th>\n",
              "      <th>Duration</th>\n",
              "      <th>Likes</th>\n",
              "      <th>Views</th>\n",
              "      <th>CommentCount</th>\n",
              "    </tr>\n",
              "  </thead>\n",
              "  <tbody>\n",
              "    <tr>\n",
              "      <th>0</th>\n",
              "      <td>ON6og3IJMjw</td>\n",
              "      <td>Update Corona 28 April 2022: 412 Kasus Baru Co...</td>\n",
              "      <td>2022-04-28</td>\n",
              "      <td>['covid 19', 'update corona 28 april 2022', 'v...</td>\n",
              "      <td>79.0</td>\n",
              "      <td>7</td>\n",
              "      <td>729</td>\n",
              "      <td>4</td>\n",
              "    </tr>\n",
              "    <tr>\n",
              "      <th>1</th>\n",
              "      <td>s6A90YfBAOY</td>\n",
              "      <td>6 Tips Mudik Naik Motor, Cek Kendaraan Hingga ...</td>\n",
              "      <td>2022-04-28</td>\n",
              "      <td>['hari raya idul fitri', 'mudik', 'mudik lebar...</td>\n",
              "      <td>79.0</td>\n",
              "      <td>6</td>\n",
              "      <td>574</td>\n",
              "      <td>1</td>\n",
              "    </tr>\n",
              "    <tr>\n",
              "      <th>2</th>\n",
              "      <td>_CHGS_4AuBc</td>\n",
              "      <td>Tol Dalam Kota Mulai Padat, Didominasi Kendara...</td>\n",
              "      <td>2022-04-28</td>\n",
              "      <td>['lalu lintas arus mudik', 'mudik lebaran 2022...</td>\n",
              "      <td>752.0</td>\n",
              "      <td>26</td>\n",
              "      <td>2204</td>\n",
              "      <td>1</td>\n",
              "    </tr>\n",
              "    <tr>\n",
              "      <th>3</th>\n",
              "      <td>3RSP7kgbXuQ</td>\n",
              "      <td>Hati-hati! Lakukan Ini Supaya Terhindar dari P...</td>\n",
              "      <td>2022-04-28</td>\n",
              "      <td>['cara menghindari pencopet', 'modus modus pen...</td>\n",
              "      <td>74.0</td>\n",
              "      <td>12</td>\n",
              "      <td>2354</td>\n",
              "      <td>3</td>\n",
              "    </tr>\n",
              "    <tr>\n",
              "      <th>4</th>\n",
              "      <td>O3P3GBwIM74</td>\n",
              "      <td>Waspada Maling Data Pribadi Lewat Aplikasi di ...</td>\n",
              "      <td>2022-04-28</td>\n",
              "      <td>['11 aplikasi pencuri data pribadi', 'aplikasi...</td>\n",
              "      <td>432.0</td>\n",
              "      <td>13</td>\n",
              "      <td>747</td>\n",
              "      <td>1</td>\n",
              "    </tr>\n",
              "  </tbody>\n",
              "</table>\n",
              "</div>\n",
              "      <button class=\"colab-df-convert\" onclick=\"convertToInteractive('df-ae1df2cf-e3e9-4de8-a437-49b962e1aad7')\"\n",
              "              title=\"Convert this dataframe to an interactive table.\"\n",
              "              style=\"display:none;\">\n",
              "        \n",
              "  <svg xmlns=\"http://www.w3.org/2000/svg\" height=\"24px\"viewBox=\"0 0 24 24\"\n",
              "       width=\"24px\">\n",
              "    <path d=\"M0 0h24v24H0V0z\" fill=\"none\"/>\n",
              "    <path d=\"M18.56 5.44l.94 2.06.94-2.06 2.06-.94-2.06-.94-.94-2.06-.94 2.06-2.06.94zm-11 1L8.5 8.5l.94-2.06 2.06-.94-2.06-.94L8.5 2.5l-.94 2.06-2.06.94zm10 10l.94 2.06.94-2.06 2.06-.94-2.06-.94-.94-2.06-.94 2.06-2.06.94z\"/><path d=\"M17.41 7.96l-1.37-1.37c-.4-.4-.92-.59-1.43-.59-.52 0-1.04.2-1.43.59L10.3 9.45l-7.72 7.72c-.78.78-.78 2.05 0 2.83L4 21.41c.39.39.9.59 1.41.59.51 0 1.02-.2 1.41-.59l7.78-7.78 2.81-2.81c.8-.78.8-2.07 0-2.86zM5.41 20L4 18.59l7.72-7.72 1.47 1.35L5.41 20z\"/>\n",
              "  </svg>\n",
              "      </button>\n",
              "      \n",
              "  <style>\n",
              "    .colab-df-container {\n",
              "      display:flex;\n",
              "      flex-wrap:wrap;\n",
              "      gap: 12px;\n",
              "    }\n",
              "\n",
              "    .colab-df-convert {\n",
              "      background-color: #E8F0FE;\n",
              "      border: none;\n",
              "      border-radius: 50%;\n",
              "      cursor: pointer;\n",
              "      display: none;\n",
              "      fill: #1967D2;\n",
              "      height: 32px;\n",
              "      padding: 0 0 0 0;\n",
              "      width: 32px;\n",
              "    }\n",
              "\n",
              "    .colab-df-convert:hover {\n",
              "      background-color: #E2EBFA;\n",
              "      box-shadow: 0px 1px 2px rgba(60, 64, 67, 0.3), 0px 1px 3px 1px rgba(60, 64, 67, 0.15);\n",
              "      fill: #174EA6;\n",
              "    }\n",
              "\n",
              "    [theme=dark] .colab-df-convert {\n",
              "      background-color: #3B4455;\n",
              "      fill: #D2E3FC;\n",
              "    }\n",
              "\n",
              "    [theme=dark] .colab-df-convert:hover {\n",
              "      background-color: #434B5C;\n",
              "      box-shadow: 0px 1px 3px 1px rgba(0, 0, 0, 0.15);\n",
              "      filter: drop-shadow(0px 1px 2px rgba(0, 0, 0, 0.3));\n",
              "      fill: #FFFFFF;\n",
              "    }\n",
              "  </style>\n",
              "\n",
              "      <script>\n",
              "        const buttonEl =\n",
              "          document.querySelector('#df-ae1df2cf-e3e9-4de8-a437-49b962e1aad7 button.colab-df-convert');\n",
              "        buttonEl.style.display =\n",
              "          google.colab.kernel.accessAllowed ? 'block' : 'none';\n",
              "\n",
              "        async function convertToInteractive(key) {\n",
              "          const element = document.querySelector('#df-ae1df2cf-e3e9-4de8-a437-49b962e1aad7');\n",
              "          const dataTable =\n",
              "            await google.colab.kernel.invokeFunction('convertToInteractive',\n",
              "                                                     [key], {});\n",
              "          if (!dataTable) return;\n",
              "\n",
              "          const docLinkHtml = 'Like what you see? Visit the ' +\n",
              "            '<a target=\"_blank\" href=https://colab.research.google.com/notebooks/data_table.ipynb>data table notebook</a>'\n",
              "            + ' to learn more about interactive tables.';\n",
              "          element.innerHTML = '';\n",
              "          dataTable['output_type'] = 'display_data';\n",
              "          await google.colab.output.renderOutput(dataTable, element);\n",
              "          const docLink = document.createElement('div');\n",
              "          docLink.innerHTML = docLinkHtml;\n",
              "          element.appendChild(docLink);\n",
              "        }\n",
              "      </script>\n",
              "    </div>\n",
              "  </div>\n",
              "  "
            ]
          },
          "metadata": {},
          "execution_count": 9
        }
      ]
    },
    {
      "cell_type": "markdown",
      "source": [
        "##   **Eksplorasi Data Video**"
      ],
      "metadata": {
        "id": "UgChlDrdtI54"
      }
    },
    {
      "cell_type": "markdown",
      "source": [
        "**Eksplorasi Peubah Views**"
      ],
      "metadata": {
        "id": "GOpcak-TvpXH"
      }
    },
    {
      "cell_type": "code",
      "source": [
        "from numpy.ma.core import mean\n",
        "views_stat = pd.DataFrame(dict(Channel = 'KompasTV',\n",
        "                               Mean = mean(video_kompas['Views']),\n",
        "                               Min = min(video_kompas['Views']),\n",
        "                               TitleMin =  video_kompas[video_kompas['Views'] == min(video_kompas['Views'])]['Title'].values,\n",
        "                               Max = max(video_kompas['Views']),\n",
        "                               TitleMax = video_kompas[video_kompas['Views'] == max(video_kompas['Views'])]['Title'].values), index = [0])\n",
        "views_stat"
      ],
      "metadata": {
        "id": "cUE5yC0nWAv1",
        "colab": {
          "base_uri": "https://localhost:8080/",
          "height": 142
        },
        "outputId": "24c498ae-b5e3-41ba-b067-fe8dd0157451"
      },
      "execution_count": null,
      "outputs": [
        {
          "output_type": "execute_result",
          "data": {
            "text/plain": [
              "    Channel          Mean  Min                                       TitleMin  \\\n",
              "0  KompasTV  47546.309141  112  Warga Binaan Lapas Gorontalo Jalani Vaksinasi   \n",
              "\n",
              "       Max                                           TitleMax  \n",
              "0  5644857  Jokowi Ungkap Terima Cerita Menakutkan saat Am...  "
            ],
            "text/html": [
              "\n",
              "  <div id=\"df-752dc3ea-5dee-4abe-840a-ef0020b21e08\">\n",
              "    <div class=\"colab-df-container\">\n",
              "      <div>\n",
              "<style scoped>\n",
              "    .dataframe tbody tr th:only-of-type {\n",
              "        vertical-align: middle;\n",
              "    }\n",
              "\n",
              "    .dataframe tbody tr th {\n",
              "        vertical-align: top;\n",
              "    }\n",
              "\n",
              "    .dataframe thead th {\n",
              "        text-align: right;\n",
              "    }\n",
              "</style>\n",
              "<table border=\"1\" class=\"dataframe\">\n",
              "  <thead>\n",
              "    <tr style=\"text-align: right;\">\n",
              "      <th></th>\n",
              "      <th>Channel</th>\n",
              "      <th>Mean</th>\n",
              "      <th>Min</th>\n",
              "      <th>TitleMin</th>\n",
              "      <th>Max</th>\n",
              "      <th>TitleMax</th>\n",
              "    </tr>\n",
              "  </thead>\n",
              "  <tbody>\n",
              "    <tr>\n",
              "      <th>0</th>\n",
              "      <td>KompasTV</td>\n",
              "      <td>47546.309141</td>\n",
              "      <td>112</td>\n",
              "      <td>Warga Binaan Lapas Gorontalo Jalani Vaksinasi</td>\n",
              "      <td>5644857</td>\n",
              "      <td>Jokowi Ungkap Terima Cerita Menakutkan saat Am...</td>\n",
              "    </tr>\n",
              "  </tbody>\n",
              "</table>\n",
              "</div>\n",
              "      <button class=\"colab-df-convert\" onclick=\"convertToInteractive('df-752dc3ea-5dee-4abe-840a-ef0020b21e08')\"\n",
              "              title=\"Convert this dataframe to an interactive table.\"\n",
              "              style=\"display:none;\">\n",
              "        \n",
              "  <svg xmlns=\"http://www.w3.org/2000/svg\" height=\"24px\"viewBox=\"0 0 24 24\"\n",
              "       width=\"24px\">\n",
              "    <path d=\"M0 0h24v24H0V0z\" fill=\"none\"/>\n",
              "    <path d=\"M18.56 5.44l.94 2.06.94-2.06 2.06-.94-2.06-.94-.94-2.06-.94 2.06-2.06.94zm-11 1L8.5 8.5l.94-2.06 2.06-.94-2.06-.94L8.5 2.5l-.94 2.06-2.06.94zm10 10l.94 2.06.94-2.06 2.06-.94-2.06-.94-.94-2.06-.94 2.06-2.06.94z\"/><path d=\"M17.41 7.96l-1.37-1.37c-.4-.4-.92-.59-1.43-.59-.52 0-1.04.2-1.43.59L10.3 9.45l-7.72 7.72c-.78.78-.78 2.05 0 2.83L4 21.41c.39.39.9.59 1.41.59.51 0 1.02-.2 1.41-.59l7.78-7.78 2.81-2.81c.8-.78.8-2.07 0-2.86zM5.41 20L4 18.59l7.72-7.72 1.47 1.35L5.41 20z\"/>\n",
              "  </svg>\n",
              "      </button>\n",
              "      \n",
              "  <style>\n",
              "    .colab-df-container {\n",
              "      display:flex;\n",
              "      flex-wrap:wrap;\n",
              "      gap: 12px;\n",
              "    }\n",
              "\n",
              "    .colab-df-convert {\n",
              "      background-color: #E8F0FE;\n",
              "      border: none;\n",
              "      border-radius: 50%;\n",
              "      cursor: pointer;\n",
              "      display: none;\n",
              "      fill: #1967D2;\n",
              "      height: 32px;\n",
              "      padding: 0 0 0 0;\n",
              "      width: 32px;\n",
              "    }\n",
              "\n",
              "    .colab-df-convert:hover {\n",
              "      background-color: #E2EBFA;\n",
              "      box-shadow: 0px 1px 2px rgba(60, 64, 67, 0.3), 0px 1px 3px 1px rgba(60, 64, 67, 0.15);\n",
              "      fill: #174EA6;\n",
              "    }\n",
              "\n",
              "    [theme=dark] .colab-df-convert {\n",
              "      background-color: #3B4455;\n",
              "      fill: #D2E3FC;\n",
              "    }\n",
              "\n",
              "    [theme=dark] .colab-df-convert:hover {\n",
              "      background-color: #434B5C;\n",
              "      box-shadow: 0px 1px 3px 1px rgba(0, 0, 0, 0.15);\n",
              "      filter: drop-shadow(0px 1px 2px rgba(0, 0, 0, 0.3));\n",
              "      fill: #FFFFFF;\n",
              "    }\n",
              "  </style>\n",
              "\n",
              "      <script>\n",
              "        const buttonEl =\n",
              "          document.querySelector('#df-752dc3ea-5dee-4abe-840a-ef0020b21e08 button.colab-df-convert');\n",
              "        buttonEl.style.display =\n",
              "          google.colab.kernel.accessAllowed ? 'block' : 'none';\n",
              "\n",
              "        async function convertToInteractive(key) {\n",
              "          const element = document.querySelector('#df-752dc3ea-5dee-4abe-840a-ef0020b21e08');\n",
              "          const dataTable =\n",
              "            await google.colab.kernel.invokeFunction('convertToInteractive',\n",
              "                                                     [key], {});\n",
              "          if (!dataTable) return;\n",
              "\n",
              "          const docLinkHtml = 'Like what you see? Visit the ' +\n",
              "            '<a target=\"_blank\" href=https://colab.research.google.com/notebooks/data_table.ipynb>data table notebook</a>'\n",
              "            + ' to learn more about interactive tables.';\n",
              "          element.innerHTML = '';\n",
              "          dataTable['output_type'] = 'display_data';\n",
              "          await google.colab.output.renderOutput(dataTable, element);\n",
              "          const docLink = document.createElement('div');\n",
              "          docLink.innerHTML = docLinkHtml;\n",
              "          element.appendChild(docLink);\n",
              "        }\n",
              "      </script>\n",
              "    </div>\n",
              "  </div>\n",
              "  "
            ]
          },
          "metadata": {},
          "execution_count": 10
        }
      ]
    },
    {
      "cell_type": "markdown",
      "source": [
        "Dari syntax diatas, didapatkan statistik rata-rata banyak viewers, banyak viewers terendah, judul dari video dengan banyak viewers terendah, banyak viewers tertinggi, dan judul dari video dengan banyak viewers tertinggi. "
      ],
      "metadata": {
        "id": "fYNpyugptYtv"
      }
    },
    {
      "cell_type": "code",
      "source": [
        "top10_views = video_kompas.sort_values(by = 'Views', ascending = False).head(10)\n",
        "top10_views = top10_views[['Title', 'Views', 'PublishedAt']]\n",
        "top10_views"
      ],
      "metadata": {
        "colab": {
          "base_uri": "https://localhost:8080/",
          "height": 363
        },
        "id": "ulwvcBCswONx",
        "outputId": "6ba76833-a378-4b70-c5c4-5cd2b0bc129a"
      },
      "execution_count": null,
      "outputs": [
        {
          "output_type": "execute_result",
          "data": {
            "text/plain": [
              "                                                   Title    Views PublishedAt\n",
              "12983  Jokowi Ungkap Terima Cerita Menakutkan saat Am...  5644857  2021-12-23\n",
              "6853   Menarik Akar Masalah Konflik Rusia dan Ukraina...  5200616  2022-02-24\n",
              "6644   Pemimpin Chechnya Minta Presiden Ukraina Minta...  4584886  2022-02-26\n",
              "3185                       Angelina Sondakh: Saya Takut…  3901513  2022-04-01\n",
              "6774   Serbuan Helikopter Rusia di Langit Rumah Warga...  3793035  2022-02-25\n",
              "16449  Arteria Ungkap Kronologi Lengkap Wanita Ngaku ...  3469874  2021-11-22\n",
              "5023   Prabowo Subianto Sampaikan Sikap Indonesia ter...  3436739  2022-03-14\n",
              "13218  Viral Petugas SPBU Bintaro Curang Isi Bensin K...  3424287  2021-12-21\n",
              "6842   Kepada AS & NATO, Presiden Rusia Putin: Kami M...  3423735  2022-02-24\n",
              "6803   Darurat Militer! Rusia Lancarkan Serangan Lebi...  3369335  2022-02-24"
            ],
            "text/html": [
              "\n",
              "  <div id=\"df-20c806c7-a804-4f69-922e-4981705e19de\">\n",
              "    <div class=\"colab-df-container\">\n",
              "      <div>\n",
              "<style scoped>\n",
              "    .dataframe tbody tr th:only-of-type {\n",
              "        vertical-align: middle;\n",
              "    }\n",
              "\n",
              "    .dataframe tbody tr th {\n",
              "        vertical-align: top;\n",
              "    }\n",
              "\n",
              "    .dataframe thead th {\n",
              "        text-align: right;\n",
              "    }\n",
              "</style>\n",
              "<table border=\"1\" class=\"dataframe\">\n",
              "  <thead>\n",
              "    <tr style=\"text-align: right;\">\n",
              "      <th></th>\n",
              "      <th>Title</th>\n",
              "      <th>Views</th>\n",
              "      <th>PublishedAt</th>\n",
              "    </tr>\n",
              "  </thead>\n",
              "  <tbody>\n",
              "    <tr>\n",
              "      <th>12983</th>\n",
              "      <td>Jokowi Ungkap Terima Cerita Menakutkan saat Am...</td>\n",
              "      <td>5644857</td>\n",
              "      <td>2021-12-23</td>\n",
              "    </tr>\n",
              "    <tr>\n",
              "      <th>6853</th>\n",
              "      <td>Menarik Akar Masalah Konflik Rusia dan Ukraina...</td>\n",
              "      <td>5200616</td>\n",
              "      <td>2022-02-24</td>\n",
              "    </tr>\n",
              "    <tr>\n",
              "      <th>6644</th>\n",
              "      <td>Pemimpin Chechnya Minta Presiden Ukraina Minta...</td>\n",
              "      <td>4584886</td>\n",
              "      <td>2022-02-26</td>\n",
              "    </tr>\n",
              "    <tr>\n",
              "      <th>3185</th>\n",
              "      <td>Angelina Sondakh: Saya Takut…</td>\n",
              "      <td>3901513</td>\n",
              "      <td>2022-04-01</td>\n",
              "    </tr>\n",
              "    <tr>\n",
              "      <th>6774</th>\n",
              "      <td>Serbuan Helikopter Rusia di Langit Rumah Warga...</td>\n",
              "      <td>3793035</td>\n",
              "      <td>2022-02-25</td>\n",
              "    </tr>\n",
              "    <tr>\n",
              "      <th>16449</th>\n",
              "      <td>Arteria Ungkap Kronologi Lengkap Wanita Ngaku ...</td>\n",
              "      <td>3469874</td>\n",
              "      <td>2021-11-22</td>\n",
              "    </tr>\n",
              "    <tr>\n",
              "      <th>5023</th>\n",
              "      <td>Prabowo Subianto Sampaikan Sikap Indonesia ter...</td>\n",
              "      <td>3436739</td>\n",
              "      <td>2022-03-14</td>\n",
              "    </tr>\n",
              "    <tr>\n",
              "      <th>13218</th>\n",
              "      <td>Viral Petugas SPBU Bintaro Curang Isi Bensin K...</td>\n",
              "      <td>3424287</td>\n",
              "      <td>2021-12-21</td>\n",
              "    </tr>\n",
              "    <tr>\n",
              "      <th>6842</th>\n",
              "      <td>Kepada AS &amp; NATO, Presiden Rusia Putin: Kami M...</td>\n",
              "      <td>3423735</td>\n",
              "      <td>2022-02-24</td>\n",
              "    </tr>\n",
              "    <tr>\n",
              "      <th>6803</th>\n",
              "      <td>Darurat Militer! Rusia Lancarkan Serangan Lebi...</td>\n",
              "      <td>3369335</td>\n",
              "      <td>2022-02-24</td>\n",
              "    </tr>\n",
              "  </tbody>\n",
              "</table>\n",
              "</div>\n",
              "      <button class=\"colab-df-convert\" onclick=\"convertToInteractive('df-20c806c7-a804-4f69-922e-4981705e19de')\"\n",
              "              title=\"Convert this dataframe to an interactive table.\"\n",
              "              style=\"display:none;\">\n",
              "        \n",
              "  <svg xmlns=\"http://www.w3.org/2000/svg\" height=\"24px\"viewBox=\"0 0 24 24\"\n",
              "       width=\"24px\">\n",
              "    <path d=\"M0 0h24v24H0V0z\" fill=\"none\"/>\n",
              "    <path d=\"M18.56 5.44l.94 2.06.94-2.06 2.06-.94-2.06-.94-.94-2.06-.94 2.06-2.06.94zm-11 1L8.5 8.5l.94-2.06 2.06-.94-2.06-.94L8.5 2.5l-.94 2.06-2.06.94zm10 10l.94 2.06.94-2.06 2.06-.94-2.06-.94-.94-2.06-.94 2.06-2.06.94z\"/><path d=\"M17.41 7.96l-1.37-1.37c-.4-.4-.92-.59-1.43-.59-.52 0-1.04.2-1.43.59L10.3 9.45l-7.72 7.72c-.78.78-.78 2.05 0 2.83L4 21.41c.39.39.9.59 1.41.59.51 0 1.02-.2 1.41-.59l7.78-7.78 2.81-2.81c.8-.78.8-2.07 0-2.86zM5.41 20L4 18.59l7.72-7.72 1.47 1.35L5.41 20z\"/>\n",
              "  </svg>\n",
              "      </button>\n",
              "      \n",
              "  <style>\n",
              "    .colab-df-container {\n",
              "      display:flex;\n",
              "      flex-wrap:wrap;\n",
              "      gap: 12px;\n",
              "    }\n",
              "\n",
              "    .colab-df-convert {\n",
              "      background-color: #E8F0FE;\n",
              "      border: none;\n",
              "      border-radius: 50%;\n",
              "      cursor: pointer;\n",
              "      display: none;\n",
              "      fill: #1967D2;\n",
              "      height: 32px;\n",
              "      padding: 0 0 0 0;\n",
              "      width: 32px;\n",
              "    }\n",
              "\n",
              "    .colab-df-convert:hover {\n",
              "      background-color: #E2EBFA;\n",
              "      box-shadow: 0px 1px 2px rgba(60, 64, 67, 0.3), 0px 1px 3px 1px rgba(60, 64, 67, 0.15);\n",
              "      fill: #174EA6;\n",
              "    }\n",
              "\n",
              "    [theme=dark] .colab-df-convert {\n",
              "      background-color: #3B4455;\n",
              "      fill: #D2E3FC;\n",
              "    }\n",
              "\n",
              "    [theme=dark] .colab-df-convert:hover {\n",
              "      background-color: #434B5C;\n",
              "      box-shadow: 0px 1px 3px 1px rgba(0, 0, 0, 0.15);\n",
              "      filter: drop-shadow(0px 1px 2px rgba(0, 0, 0, 0.3));\n",
              "      fill: #FFFFFF;\n",
              "    }\n",
              "  </style>\n",
              "\n",
              "      <script>\n",
              "        const buttonEl =\n",
              "          document.querySelector('#df-20c806c7-a804-4f69-922e-4981705e19de button.colab-df-convert');\n",
              "        buttonEl.style.display =\n",
              "          google.colab.kernel.accessAllowed ? 'block' : 'none';\n",
              "\n",
              "        async function convertToInteractive(key) {\n",
              "          const element = document.querySelector('#df-20c806c7-a804-4f69-922e-4981705e19de');\n",
              "          const dataTable =\n",
              "            await google.colab.kernel.invokeFunction('convertToInteractive',\n",
              "                                                     [key], {});\n",
              "          if (!dataTable) return;\n",
              "\n",
              "          const docLinkHtml = 'Like what you see? Visit the ' +\n",
              "            '<a target=\"_blank\" href=https://colab.research.google.com/notebooks/data_table.ipynb>data table notebook</a>'\n",
              "            + ' to learn more about interactive tables.';\n",
              "          element.innerHTML = '';\n",
              "          dataTable['output_type'] = 'display_data';\n",
              "          await google.colab.output.renderOutput(dataTable, element);\n",
              "          const docLink = document.createElement('div');\n",
              "          docLink.innerHTML = docLinkHtml;\n",
              "          element.appendChild(docLink);\n",
              "        }\n",
              "      </script>\n",
              "    </div>\n",
              "  </div>\n",
              "  "
            ]
          },
          "metadata": {},
          "execution_count": 11
        }
      ]
    },
    {
      "cell_type": "code",
      "source": [
        "sns.barplot(x = 'Views', y = 'Title', data = top10_views)"
      ],
      "metadata": {
        "colab": {
          "base_uri": "https://localhost:8080/",
          "height": 296
        },
        "id": "FMFIUDIP2dPJ",
        "outputId": "00334f04-90ca-4d15-cdbd-79c01b1871d8"
      },
      "execution_count": null,
      "outputs": [
        {
          "output_type": "execute_result",
          "data": {
            "text/plain": [
              "<matplotlib.axes._subplots.AxesSubplot at 0x7fde07d81ed0>"
            ]
          },
          "metadata": {},
          "execution_count": 12
        },
        {
          "output_type": "display_data",
          "data": {
            "text/plain": [
              "<Figure size 432x288 with 1 Axes>"
            ],
            "image/png": "[encoded data removed]"
          },
          "metadata": {
            "needs_background": "light"
          }
        }
      ]
    },
    {
      "cell_type": "markdown",
      "source": [
        "Dari barplot, terlihat bahwa perbedaan banyaknya viewers dari kesepuluh video tersebut cukup merata. Hal ini menunjukkan bahwa tidak ada video yang sangat booming hingga menimbulkan jumlah views yang berbeda jauh. Berdasarkan judulnya, video yang memiliki banyak views mengangkat isu-isu yang intens dengan tokoh yang terkenal seperti saham freeport dengan Jokowi, konflik Ukraina dan Rusia dengan Presiden Ukraina, Vladimir Putin, dan Prabowo Subianto. Selain itu, ada juga video dengan views terbanyak dengan topik yang viral seperti Angelina Sondakh, konflik Arteria, dan Petugas SPBU Bintaro."
      ],
      "metadata": {
        "id": "jLvKVMqIAfc6"
      }
    },
    {
      "cell_type": "markdown",
      "source": [
        "**Eksplorasi Peubah Likes**"
      ],
      "metadata": {
        "id": "LJZS1wzRE_Sn"
      }
    },
    {
      "cell_type": "code",
      "source": [
        "top10_likes = video_kompas.sort_values(by = 'Likes', ascending = False).head(10)\n",
        "top10_likes = top10_likes[['Title', 'Likes', 'PublishedAt']]\n",
        "top10_likes"
      ],
      "metadata": {
        "id": "EOgXij86Xtq2",
        "colab": {
          "base_uri": "https://localhost:8080/",
          "height": 363
        },
        "outputId": "277cf027-d417-463f-a896-94d98bd9a377"
      },
      "execution_count": null,
      "outputs": [
        {
          "output_type": "execute_result",
          "data": {
            "text/plain": [
              "                                                   Title  Likes PublishedAt\n",
              "3185                       Angelina Sondakh: Saya Takut…  87214  2022-04-01\n",
              "10354  Hoax! Pesawat Garuda Indonesia Crash Saat Land...  86547  2022-01-20\n",
              "12983  Jokowi Ungkap Terima Cerita Menakutkan saat Am...  46949  2021-12-23\n",
              "6853   Menarik Akar Masalah Konflik Rusia dan Ukraina...  44707  2022-02-24\n",
              "16449  Arteria Ungkap Kronologi Lengkap Wanita Ngaku ...  31334  2021-11-22\n",
              "6644   Pemimpin Chechnya Minta Presiden Ukraina Minta...  31018  2022-02-26\n",
              "10513  Detik-detik Gempa Bubarkan Live Rock Geeks. Pe...  30696  2022-01-18\n",
              "11326  Media Malaysia Pakai Video Jokowi Beri Jalan A...  29473  2022-01-10\n",
              "19897  Hotman Paris Unggah Video Jokowi Disambut Meri...  26077  2021-10-31\n",
              "2173   Disebut jadi Sumber Isu Tiga Periode, Masinton...  25328  2022-04-11"
            ],
            "text/html": [
              "\n",
              "  <div id=\"df-e7434420-5d51-4a24-a352-582de9dbc7d3\">\n",
              "    <div class=\"colab-df-container\">\n",
              "      <div>\n",
              "<style scoped>\n",
              "    .dataframe tbody tr th:only-of-type {\n",
              "        vertical-align: middle;\n",
              "    }\n",
              "\n",
              "    .dataframe tbody tr th {\n",
              "        vertical-align: top;\n",
              "    }\n",
              "\n",
              "    .dataframe thead th {\n",
              "        text-align: right;\n",
              "    }\n",
              "</style>\n",
              "<table border=\"1\" class=\"dataframe\">\n",
              "  <thead>\n",
              "    <tr style=\"text-align: right;\">\n",
              "      <th></th>\n",
              "      <th>Title</th>\n",
              "      <th>Likes</th>\n",
              "      <th>PublishedAt</th>\n",
              "    </tr>\n",
              "  </thead>\n",
              "  <tbody>\n",
              "    <tr>\n",
              "      <th>3185</th>\n",
              "      <td>Angelina Sondakh: Saya Takut…</td>\n",
              "      <td>87214</td>\n",
              "      <td>2022-04-01</td>\n",
              "    </tr>\n",
              "    <tr>\n",
              "      <th>10354</th>\n",
              "      <td>Hoax! Pesawat Garuda Indonesia Crash Saat Land...</td>\n",
              "      <td>86547</td>\n",
              "      <td>2022-01-20</td>\n",
              "    </tr>\n",
              "    <tr>\n",
              "      <th>12983</th>\n",
              "      <td>Jokowi Ungkap Terima Cerita Menakutkan saat Am...</td>\n",
              "      <td>46949</td>\n",
              "      <td>2021-12-23</td>\n",
              "    </tr>\n",
              "    <tr>\n",
              "      <th>6853</th>\n",
              "      <td>Menarik Akar Masalah Konflik Rusia dan Ukraina...</td>\n",
              "      <td>44707</td>\n",
              "      <td>2022-02-24</td>\n",
              "    </tr>\n",
              "    <tr>\n",
              "      <th>16449</th>\n",
              "      <td>Arteria Ungkap Kronologi Lengkap Wanita Ngaku ...</td>\n",
              "      <td>31334</td>\n",
              "      <td>2021-11-22</td>\n",
              "    </tr>\n",
              "    <tr>\n",
              "      <th>6644</th>\n",
              "      <td>Pemimpin Chechnya Minta Presiden Ukraina Minta...</td>\n",
              "      <td>31018</td>\n",
              "      <td>2022-02-26</td>\n",
              "    </tr>\n",
              "    <tr>\n",
              "      <th>10513</th>\n",
              "      <td>Detik-detik Gempa Bubarkan Live Rock Geeks. Pe...</td>\n",
              "      <td>30696</td>\n",
              "      <td>2022-01-18</td>\n",
              "    </tr>\n",
              "    <tr>\n",
              "      <th>11326</th>\n",
              "      <td>Media Malaysia Pakai Video Jokowi Beri Jalan A...</td>\n",
              "      <td>29473</td>\n",
              "      <td>2022-01-10</td>\n",
              "    </tr>\n",
              "    <tr>\n",
              "      <th>19897</th>\n",
              "      <td>Hotman Paris Unggah Video Jokowi Disambut Meri...</td>\n",
              "      <td>26077</td>\n",
              "      <td>2021-10-31</td>\n",
              "    </tr>\n",
              "    <tr>\n",
              "      <th>2173</th>\n",
              "      <td>Disebut jadi Sumber Isu Tiga Periode, Masinton...</td>\n",
              "      <td>25328</td>\n",
              "      <td>2022-04-11</td>\n",
              "    </tr>\n",
              "  </tbody>\n",
              "</table>\n",
              "</div>\n",
              "      <button class=\"colab-df-convert\" onclick=\"convertToInteractive('df-e7434420-5d51-4a24-a352-582de9dbc7d3')\"\n",
              "              title=\"Convert this dataframe to an interactive table.\"\n",
              "              style=\"display:none;\">\n",
              "        \n",
              "  <svg xmlns=\"http://www.w3.org/2000/svg\" height=\"24px\"viewBox=\"0 0 24 24\"\n",
              "       width=\"24px\">\n",
              "    <path d=\"M0 0h24v24H0V0z\" fill=\"none\"/>\n",
              "    <path d=\"M18.56 5.44l.94 2.06.94-2.06 2.06-.94-2.06-.94-.94-2.06-.94 2.06-2.06.94zm-11 1L8.5 8.5l.94-2.06 2.06-.94-2.06-.94L8.5 2.5l-.94 2.06-2.06.94zm10 10l.94 2.06.94-2.06 2.06-.94-2.06-.94-.94-2.06-.94 2.06-2.06.94z\"/><path d=\"M17.41 7.96l-1.37-1.37c-.4-.4-.92-.59-1.43-.59-.52 0-1.04.2-1.43.59L10.3 9.45l-7.72 7.72c-.78.78-.78 2.05 0 2.83L4 21.41c.39.39.9.59 1.41.59.51 0 1.02-.2 1.41-.59l7.78-7.78 2.81-2.81c.8-.78.8-2.07 0-2.86zM5.41 20L4 18.59l7.72-7.72 1.47 1.35L5.41 20z\"/>\n",
              "  </svg>\n",
              "      </button>\n",
              "      \n",
              "  <style>\n",
              "    .colab-df-container {\n",
              "      display:flex;\n",
              "      flex-wrap:wrap;\n",
              "      gap: 12px;\n",
              "    }\n",
              "\n",
              "    .colab-df-convert {\n",
              "      background-color: #E8F0FE;\n",
              "      border: none;\n",
              "      border-radius: 50%;\n",
              "      cursor: pointer;\n",
              "      display: none;\n",
              "      fill: #1967D2;\n",
              "      height: 32px;\n",
              "      padding: 0 0 0 0;\n",
              "      width: 32px;\n",
              "    }\n",
              "\n",
              "    .colab-df-convert:hover {\n",
              "      background-color: #E2EBFA;\n",
              "      box-shadow: 0px 1px 2px rgba(60, 64, 67, 0.3), 0px 1px 3px 1px rgba(60, 64, 67, 0.15);\n",
              "      fill: #174EA6;\n",
              "    }\n",
              "\n",
              "    [theme=dark] .colab-df-convert {\n",
              "      background-color: #3B4455;\n",
              "      fill: #D2E3FC;\n",
              "    }\n",
              "\n",
              "    [theme=dark] .colab-df-convert:hover {\n",
              "      background-color: #434B5C;\n",
              "      box-shadow: 0px 1px 3px 1px rgba(0, 0, 0, 0.15);\n",
              "      filter: drop-shadow(0px 1px 2px rgba(0, 0, 0, 0.3));\n",
              "      fill: #FFFFFF;\n",
              "    }\n",
              "  </style>\n",
              "\n",
              "      <script>\n",
              "        const buttonEl =\n",
              "          document.querySelector('#df-e7434420-5d51-4a24-a352-582de9dbc7d3 button.colab-df-convert');\n",
              "        buttonEl.style.display =\n",
              "          google.colab.kernel.accessAllowed ? 'block' : 'none';\n",
              "\n",
              "        async function convertToInteractive(key) {\n",
              "          const element = document.querySelector('#df-e7434420-5d51-4a24-a352-582de9dbc7d3');\n",
              "          const dataTable =\n",
              "            await google.colab.kernel.invokeFunction('convertToInteractive',\n",
              "                                                     [key], {});\n",
              "          if (!dataTable) return;\n",
              "\n",
              "          const docLinkHtml = 'Like what you see? Visit the ' +\n",
              "            '<a target=\"_blank\" href=https://colab.research.google.com/notebooks/data_table.ipynb>data table notebook</a>'\n",
              "            + ' to learn more about interactive tables.';\n",
              "          element.innerHTML = '';\n",
              "          dataTable['output_type'] = 'display_data';\n",
              "          await google.colab.output.renderOutput(dataTable, element);\n",
              "          const docLink = document.createElement('div');\n",
              "          docLink.innerHTML = docLinkHtml;\n",
              "          element.appendChild(docLink);\n",
              "        }\n",
              "      </script>\n",
              "    </div>\n",
              "  </div>\n",
              "  "
            ]
          },
          "metadata": {},
          "execution_count": 13
        }
      ]
    },
    {
      "cell_type": "code",
      "source": [
        "sns.barplot(x = 'Likes', y = 'Title', data = top10_likes)"
      ],
      "metadata": {
        "colab": {
          "base_uri": "https://localhost:8080/",
          "height": 296
        },
        "id": "1IR_SY6jFY6C",
        "outputId": "aa28a4c7-ee6a-4c8c-e547-09d7767d8820"
      },
      "execution_count": null,
      "outputs": [
        {
          "output_type": "execute_result",
          "data": {
            "text/plain": [
              "<matplotlib.axes._subplots.AxesSubplot at 0x7fde07c954d0>"
            ]
          },
          "metadata": {},
          "execution_count": 14
        },
        {
          "output_type": "display_data",
          "data": {
            "text/plain": [
              "<Figure size 432x288 with 1 Axes>"
            ],
            "image/png": "[encoded data removed]"
          },
          "metadata": {
            "needs_background": "light"
          }
        }
      ]
    },
    {
      "cell_type": "markdown",
      "source": [
        "Berbeda dengan peubah Views, video dengan likes terbanyak cenderung terkait dengan topik-topik yang sangat viral. Video dengan views terbanyak juga cenderung muncul sebagai video dengan likes terbanyak.  "
      ],
      "metadata": {
        "id": "W-TNrYaaFma_"
      }
    },
    {
      "cell_type": "markdown",
      "source": [
        "**Eksplorasi Peubah PublishedAt**"
      ],
      "metadata": {
        "id": "6r0FC92sIliA"
      }
    },
    {
      "cell_type": "code",
      "source": [
        "videos_perday_kompas = video_kompas.groupby('PublishedAt', as_index=False).size()\n",
        "videos_perday_kompas"
      ],
      "metadata": {
        "id": "CF1RjKa3ZKD-",
        "colab": {
          "base_uri": "https://localhost:8080/",
          "height": 424
        },
        "outputId": "cf71ced3-5970-4e95-89a8-c23f2dfffbda"
      },
      "execution_count": null,
      "outputs": [
        {
          "output_type": "execute_result",
          "data": {
            "text/plain": [
              "    PublishedAt  size\n",
              "0    2021-10-31    58\n",
              "1    2021-11-01   163\n",
              "2    2021-11-02   184\n",
              "3    2021-11-03   176\n",
              "4    2021-11-04   182\n",
              "..          ...   ...\n",
              "175  2022-04-24   105\n",
              "176  2022-04-25   210\n",
              "177  2022-04-26   179\n",
              "178  2022-04-27   136\n",
              "179  2022-04-28    97\n",
              "\n",
              "[180 rows x 2 columns]"
            ],
            "text/html": [
              "\n",
              "  <div id=\"df-0a3e7c6b-3197-4871-acc8-b3bb98467fd8\">\n",
              "    <div class=\"colab-df-container\">\n",
              "      <div>\n",
              "<style scoped>\n",
              "    .dataframe tbody tr th:only-of-type {\n",
              "        vertical-align: middle;\n",
              "    }\n",
              "\n",
              "    .dataframe tbody tr th {\n",
              "        vertical-align: top;\n",
              "    }\n",
              "\n",
              "    .dataframe thead th {\n",
              "        text-align: right;\n",
              "    }\n",
              "</style>\n",
              "<table border=\"1\" class=\"dataframe\">\n",
              "  <thead>\n",
              "    <tr style=\"text-align: right;\">\n",
              "      <th></th>\n",
              "      <th>PublishedAt</th>\n",
              "      <th>size</th>\n",
              "    </tr>\n",
              "  </thead>\n",
              "  <tbody>\n",
              "    <tr>\n",
              "      <th>0</th>\n",
              "      <td>2021-10-31</td>\n",
              "      <td>58</td>\n",
              "    </tr>\n",
              "    <tr>\n",
              "      <th>1</th>\n",
              "      <td>2021-11-01</td>\n",
              "      <td>163</td>\n",
              "    </tr>\n",
              "    <tr>\n",
              "      <th>2</th>\n",
              "      <td>2021-11-02</td>\n",
              "      <td>184</td>\n",
              "    </tr>\n",
              "    <tr>\n",
              "      <th>3</th>\n",
              "      <td>2021-11-03</td>\n",
              "      <td>176</td>\n",
              "    </tr>\n",
              "    <tr>\n",
              "      <th>4</th>\n",
              "      <td>2021-11-04</td>\n",
              "      <td>182</td>\n",
              "    </tr>\n",
              "    <tr>\n",
              "      <th>...</th>\n",
              "      <td>...</td>\n",
              "      <td>...</td>\n",
              "    </tr>\n",
              "    <tr>\n",
              "      <th>175</th>\n",
              "      <td>2022-04-24</td>\n",
              "      <td>105</td>\n",
              "    </tr>\n",
              "    <tr>\n",
              "      <th>176</th>\n",
              "      <td>2022-04-25</td>\n",
              "      <td>210</td>\n",
              "    </tr>\n",
              "    <tr>\n",
              "      <th>177</th>\n",
              "      <td>2022-04-26</td>\n",
              "      <td>179</td>\n",
              "    </tr>\n",
              "    <tr>\n",
              "      <th>178</th>\n",
              "      <td>2022-04-27</td>\n",
              "      <td>136</td>\n",
              "    </tr>\n",
              "    <tr>\n",
              "      <th>179</th>\n",
              "      <td>2022-04-28</td>\n",
              "      <td>97</td>\n",
              "    </tr>\n",
              "  </tbody>\n",
              "</table>\n",
              "<p>180 rows × 2 columns</p>\n",
              "</div>\n",
              "      <button class=\"colab-df-convert\" onclick=\"convertToInteractive('df-0a3e7c6b-3197-4871-acc8-b3bb98467fd8')\"\n",
              "              title=\"Convert this dataframe to an interactive table.\"\n",
              "              style=\"display:none;\">\n",
              "        \n",
              "  <svg xmlns=\"http://www.w3.org/2000/svg\" height=\"24px\"viewBox=\"0 0 24 24\"\n",
              "       width=\"24px\">\n",
              "    <path d=\"M0 0h24v24H0V0z\" fill=\"none\"/>\n",
              "    <path d=\"M18.56 5.44l.94 2.06.94-2.06 2.06-.94-2.06-.94-.94-2.06-.94 2.06-2.06.94zm-11 1L8.5 8.5l.94-2.06 2.06-.94-2.06-.94L8.5 2.5l-.94 2.06-2.06.94zm10 10l.94 2.06.94-2.06 2.06-.94-2.06-.94-.94-2.06-.94 2.06-2.06.94z\"/><path d=\"M17.41 7.96l-1.37-1.37c-.4-.4-.92-.59-1.43-.59-.52 0-1.04.2-1.43.59L10.3 9.45l-7.72 7.72c-.78.78-.78 2.05 0 2.83L4 21.41c.39.39.9.59 1.41.59.51 0 1.02-.2 1.41-.59l7.78-7.78 2.81-2.81c.8-.78.8-2.07 0-2.86zM5.41 20L4 18.59l7.72-7.72 1.47 1.35L5.41 20z\"/>\n",
              "  </svg>\n",
              "      </button>\n",
              "      \n",
              "  <style>\n",
              "    .colab-df-container {\n",
              "      display:flex;\n",
              "      flex-wrap:wrap;\n",
              "      gap: 12px;\n",
              "    }\n",
              "\n",
              "    .colab-df-convert {\n",
              "      background-color: #E8F0FE;\n",
              "      border: none;\n",
              "      border-radius: 50%;\n",
              "      cursor: pointer;\n",
              "      display: none;\n",
              "      fill: #1967D2;\n",
              "      height: 32px;\n",
              "      padding: 0 0 0 0;\n",
              "      width: 32px;\n",
              "    }\n",
              "\n",
              "    .colab-df-convert:hover {\n",
              "      background-color: #E2EBFA;\n",
              "      box-shadow: 0px 1px 2px rgba(60, 64, 67, 0.3), 0px 1px 3px 1px rgba(60, 64, 67, 0.15);\n",
              "      fill: #174EA6;\n",
              "    }\n",
              "\n",
              "    [theme=dark] .colab-df-convert {\n",
              "      background-color: #3B4455;\n",
              "      fill: #D2E3FC;\n",
              "    }\n",
              "\n",
              "    [theme=dark] .colab-df-convert:hover {\n",
              "      background-color: #434B5C;\n",
              "      box-shadow: 0px 1px 3px 1px rgba(0, 0, 0, 0.15);\n",
              "      filter: drop-shadow(0px 1px 2px rgba(0, 0, 0, 0.3));\n",
              "      fill: #FFFFFF;\n",
              "    }\n",
              "  </style>\n",
              "\n",
              "      <script>\n",
              "        const buttonEl =\n",
              "          document.querySelector('#df-0a3e7c6b-3197-4871-acc8-b3bb98467fd8 button.colab-df-convert');\n",
              "        buttonEl.style.display =\n",
              "          google.colab.kernel.accessAllowed ? 'block' : 'none';\n",
              "\n",
              "        async function convertToInteractive(key) {\n",
              "          const element = document.querySelector('#df-0a3e7c6b-3197-4871-acc8-b3bb98467fd8');\n",
              "          const dataTable =\n",
              "            await google.colab.kernel.invokeFunction('convertToInteractive',\n",
              "                                                     [key], {});\n",
              "          if (!dataTable) return;\n",
              "\n",
              "          const docLinkHtml = 'Like what you see? Visit the ' +\n",
              "            '<a target=\"_blank\" href=https://colab.research.google.com/notebooks/data_table.ipynb>data table notebook</a>'\n",
              "            + ' to learn more about interactive tables.';\n",
              "          element.innerHTML = '';\n",
              "          dataTable['output_type'] = 'display_data';\n",
              "          await google.colab.output.renderOutput(dataTable, element);\n",
              "          const docLink = document.createElement('div');\n",
              "          docLink.innerHTML = docLinkHtml;\n",
              "          element.appendChild(docLink);\n",
              "        }\n",
              "      </script>\n",
              "    </div>\n",
              "  </div>\n",
              "  "
            ]
          },
          "metadata": {},
          "execution_count": 15
        }
      ]
    },
    {
      "cell_type": "code",
      "source": [
        "sns.lineplot(x = 'PublishedAt', y = 'size', data = videos_perday_kompas)"
      ],
      "metadata": {
        "colab": {
          "base_uri": "https://localhost:8080/",
          "height": 298
        },
        "id": "PiW3ZFlqJCBB",
        "outputId": "df1230a5-4fba-403c-ac56-247dca4db855"
      },
      "execution_count": null,
      "outputs": [
        {
          "output_type": "execute_result",
          "data": {
            "text/plain": [
              "<matplotlib.axes._subplots.AxesSubplot at 0x7fde07715d50>"
            ]
          },
          "metadata": {},
          "execution_count": 16
        },
        {
          "output_type": "display_data",
          "data": {
            "text/plain": [
              "<Figure size 432x288 with 1 Axes>"
            ],
            "image/png": "[encoded data removed]"
          },
          "metadata": {
            "needs_background": "light"
          }
        }
      ]
    },
    {
      "cell_type": "markdown",
      "source": [
        "Dari plot, terlihat bahwa bahwa banyak video yang diunggah pada hari Minggu cenderung lebih sedikit daripada hari lainnya. Pada Desember 2021 - April 2022, KompasTV hanya menggunggah sekitar 70-120 video. Namun, pada November tahun 2021 dan Mei 2022 Kompas TV mengunggah sekitar 180-220 video tiap harinya. Untuk mengetahui, topik bahasan apa saja yang diberitakan pada November 2021 akan dilakukan eksplorasi menggunakan text mining pada peubah Title."
      ],
      "metadata": {
        "id": "2VGt3nYuJ3CI"
      }
    },
    {
      "cell_type": "markdown",
      "source": [
        "**Eksplorasi Peubah Title**"
      ],
      "metadata": {
        "id": "OCVxHLLr2xW-"
      }
    },
    {
      "cell_type": "markdown",
      "source": [
        "Seleksi Data November 2021"
      ],
      "metadata": {
        "id": "9Pr40ctgkzcU"
      }
    },
    {
      "cell_type": "code",
      "source": [
        "video_kompas['PublishedAt'] = pd.to_datetime(video_kompas['PublishedAt'])\n",
        "video_Nov2021 = video_kompas.set_index(video_kompas['PublishedAt'])\n",
        "video_Nov2021 = video_Nov2021.loc[(video_Nov2021['PublishedAt'] >= '2021-11-01') & (video_Nov2021['PublishedAt'] <= '2021-11-30'),:]"
      ],
      "metadata": {
        "id": "QaI18jUmUA7O"
      },
      "execution_count": null,
      "outputs": []
    },
    {
      "cell_type": "markdown",
      "source": [
        "*Case folding*, Penghapusan Angka, Tanda Baca, dan Spasi berlebih"
      ],
      "metadata": {
        "id": "HpS_Ub7Ok6cQ"
      }
    },
    {
      "cell_type": "code",
      "source": [
        "import re"
      ],
      "metadata": {
        "id": "g1X97AjOaEmn"
      },
      "execution_count": null,
      "outputs": []
    },
    {
      "cell_type": "code",
      "source": [
        "def tweetCleaning(kalimat):\n",
        "  kalimat = str(kalimat).lower()\n",
        "  kalimat = re.sub('[^0-9A-Za-z \\t]',' ', kalimat) \n",
        "  kalimat = re.sub('\\w+:\\/\\/\\S+', ' ', kalimat) \n",
        "  kalimat = re.sub('[0-9]+', ' ', kalimat)\n",
        "  kalimat = re.sub(' +', ' ', kalimat)\n",
        "  return kalimat"
      ],
      "metadata": {
        "id": "xvd4TxLjZr1K"
      },
      "execution_count": null,
      "outputs": []
    },
    {
      "cell_type": "code",
      "source": [
        "Title_Nov2021 = video_Nov2021['Title'].apply(tweetCleaning)"
      ],
      "metadata": {
        "id": "kHf1OecjYHJx"
      },
      "execution_count": null,
      "outputs": []
    },
    {
      "cell_type": "code",
      "source": [
        "Title_Nov2021"
      ],
      "metadata": {
        "colab": {
          "base_uri": "https://localhost:8080/"
        },
        "id": "0yBGQCI0aUWA",
        "outputId": "647f1a5e-9241-4957-b33e-1463b549848e"
      },
      "execution_count": null,
      "outputs": [
        {
          "output_type": "execute_result",
          "data": {
            "text/plain": [
              "PublishedAt\n",
              "2021-11-30    penembakan misterius di exit tol bintaro terun...\n",
              "2021-11-30    tangis keluarga pecah mengiringi pemakaman jen...\n",
              "2021-11-30    seorang pria ketahuan menguntit buah sabun pem...\n",
              "2021-11-30    kebakaran gudang di cikupa turut membakar mobi...\n",
              "2021-11-30    gubernur dki jakarta tunjuk ahmad sahroni jadi...\n",
              "                                    ...                        \n",
              "2021-11-01    keindahan alam desa wisata ngilngof dengan pas...\n",
              "2021-11-01    di akhir pekan pantai pasir putih carita mulai...\n",
              "2021-11-01    satgas covid beberkan persiapan masa transisi ...\n",
              "2021-11-01    sejumlah negara g sepakat bentuk satuan kerja ...\n",
              "2021-11-01    mantap budidaya sansevieria alias lidah mertua...\n",
              "Name: Title, Length: 4563, dtype: object"
            ]
          },
          "metadata": {},
          "execution_count": 21
        }
      ]
    },
    {
      "cell_type": "markdown",
      "source": [
        "Stemming\n",
        "\n",
        "Stemming adalah proses mengubah kata menjadi bentuk dasarnya. Hal ini dilakukan untuk mengurangi tempat penyimpanan istilah, mengurangi jumlah kata yang terambil, dan memperluas arti dari suatu istilah."
      ],
      "metadata": {
        "id": "KPUVuNpsl4ck"
      }
    },
    {
      "cell_type": "code",
      "source": [
        "pip install sastrawi"
      ],
      "metadata": {
        "colab": {
          "base_uri": "https://localhost:8080/"
        },
        "id": "ViN72IG1aWxM",
        "outputId": "2eb566b6-3cc0-488f-b749-ba52603940a9"
      },
      "execution_count": null,
      "outputs": [
        {
          "output_type": "stream",
          "name": "stdout",
          "text": [
            "Collecting sastrawi\n",
            "  Downloading Sastrawi-1.0.1-py2.py3-none-any.whl (209 kB)\n",
            "\u001b[?25l\r\u001b[K     |█▋                              | 10 kB 22.2 MB/s eta 0:00:01\r\u001b[K     |███▏                            | 20 kB 16.0 MB/s eta 0:00:01\r\u001b[K     |████▊                           | 30 kB 10.2 MB/s eta 0:00:01\r\u001b[K     |██████▎                         | 40 kB 9.0 MB/s eta 0:00:01\r\u001b[K     |███████▉                        | 51 kB 4.7 MB/s eta 0:00:01\r\u001b[K     |█████████▍                      | 61 kB 5.5 MB/s eta 0:00:01\r\u001b[K     |███████████                     | 71 kB 5.6 MB/s eta 0:00:01\r\u001b[K     |████████████▌                   | 81 kB 5.1 MB/s eta 0:00:01\r\u001b[K     |██████████████                  | 92 kB 5.6 MB/s eta 0:00:01\r\u001b[K     |███████████████▋                | 102 kB 5.2 MB/s eta 0:00:01\r\u001b[K     |█████████████████▏              | 112 kB 5.2 MB/s eta 0:00:01\r\u001b[K     |██████████████████▊             | 122 kB 5.2 MB/s eta 0:00:01\r\u001b[K     |████████████████████▎           | 133 kB 5.2 MB/s eta 0:00:01\r\u001b[K     |█████████████████████▉          | 143 kB 5.2 MB/s eta 0:00:01\r\u001b[K     |███████████████████████▍        | 153 kB 5.2 MB/s eta 0:00:01\r\u001b[K     |█████████████████████████       | 163 kB 5.2 MB/s eta 0:00:01\r\u001b[K     |██████████████████████████▋     | 174 kB 5.2 MB/s eta 0:00:01\r\u001b[K     |████████████████████████████▏   | 184 kB 5.2 MB/s eta 0:00:01\r\u001b[K     |█████████████████████████████▊  | 194 kB 5.2 MB/s eta 0:00:01\r\u001b[K     |███████████████████████████████▎| 204 kB 5.2 MB/s eta 0:00:01\r\u001b[K     |████████████████████████████████| 209 kB 5.2 MB/s \n",
            "\u001b[?25hInstalling collected packages: sastrawi\n",
            "Successfully installed sastrawi-1.0.1\n"
          ]
        }
      ]
    },
    {
      "cell_type": "code",
      "source": [
        "from Sastrawi.Stemmer.StemmerFactory import StemmerFactory\n",
        "stem_init = StemmerFactory().create_stemmer()\n",
        "def stemmer(word):\n",
        "    return stem_init.stem(word)"
      ],
      "metadata": {
        "id": "8ojhFEUjbcrU"
      },
      "execution_count": null,
      "outputs": []
    },
    {
      "cell_type": "code",
      "source": [
        "Title_Nov2021 = Title_Nov2021.apply(stemmer)"
      ],
      "metadata": {
        "id": "U2xAjQPrbfYa"
      },
      "execution_count": null,
      "outputs": []
    },
    {
      "cell_type": "code",
      "source": [
        "Title_Nov2021"
      ],
      "metadata": {
        "colab": {
          "base_uri": "https://localhost:8080/"
        },
        "id": "gjAhGgInd-Zx",
        "outputId": "9c4dffb8-382c-4c57-ff26-bd345c52b1bc"
      },
      "execution_count": null,
      "outputs": [
        {
          "output_type": "execute_result",
          "data": {
            "text/plain": [
              "PublishedAt\n",
              "2021-11-30    tembak misterius di exit tol bintaro ungkap la...\n",
              "2021-11-30    tangis keluarga pecah iring makam jenazah korb...\n",
              "2021-11-30    orang pria tahu kuntit buah sabun bersih wajah...\n",
              "2021-11-30    bakar gudang di cikupa turut bakar mobil sebab...\n",
              "2021-11-30    gubernur dki jakarta tunjuk ahmad sahroni jadi...\n",
              "                                    ...                        \n",
              "2021-11-01    indah alam desa wisata ngilngof dengan pasir p...\n",
              "2021-11-01    di akhir pekan pantai pasir putih carita mulai...\n",
              "2021-11-01    satgas covid kan siap masa transisi pandemi ja...\n",
              "2021-11-01    jumlah negara g sepakat bentuk satu kerja untu...\n",
              "2021-11-01    mantap budidaya sansevieria alias lidah mertua...\n",
              "Name: Title, Length: 4563, dtype: object"
            ]
          },
          "metadata": {},
          "execution_count": 25
        }
      ]
    },
    {
      "cell_type": "markdown",
      "source": [
        "Penghapusan Stopword\n",
        "\n",
        "Stopword adalah kata umum yang biasanya muncul dalam jumlah besar dan dianggap tidak memiliki makna. Contoh stopword dalam bahasa Indonesia adalah “yang”, “dan”, “di”, “dari”, dan lain lain. Dengan menghapus stopword, kita menghapus kata-kata yang memiliki informasi rendah sehingga kita menjadi fokus pada kata-kata penting dalam sebuah kalimat."
      ],
      "metadata": {
        "id": "DJhSJJTXmVc_"
      }
    },
    {
      "cell_type": "code",
      "source": [
        "pip install nltk"
      ],
      "metadata": {
        "colab": {
          "base_uri": "https://localhost:8080/"
        },
        "id": "g035IuU0ei1r",
        "outputId": "eef32ed3-30c0-4093-a9f4-228430686fef"
      },
      "execution_count": null,
      "outputs": [
        {
          "output_type": "stream",
          "name": "stdout",
          "text": [
            "Requirement already satisfied: nltk in /usr/local/lib/python3.7/dist-packages (3.2.5)\n",
            "Requirement already satisfied: six in /usr/local/lib/python3.7/dist-packages (from nltk) (1.15.0)\n"
          ]
        }
      ]
    },
    {
      "cell_type": "code",
      "source": [
        "%%capture\n",
        "import nltk\n",
        "from nltk.corpus import stopwords\n",
        "nltk.download('popular')"
      ],
      "metadata": {
        "id": "tUw9WWt_e2JX"
      },
      "execution_count": 3,
      "outputs": []
    },
    {
      "cell_type": "code",
      "source": [
        "def remove_stop_words(word_list):\n",
        "  stop_words = set(stopwords.words('indonesian'))\n",
        "  return ' '.join([word for word in word_list.split(' ') if word not in stop_words])"
      ],
      "metadata": {
        "id": "rKGFkNN8foLW"
      },
      "execution_count": null,
      "outputs": []
    },
    {
      "cell_type": "code",
      "source": [
        "Title_Nov2021 = Title_Nov2021.apply(remove_stop_words)"
      ],
      "metadata": {
        "id": "HYXDM1xqsjjZ"
      },
      "execution_count": null,
      "outputs": []
    },
    {
      "cell_type": "code",
      "source": [
        "Title_Nov2021"
      ],
      "metadata": {
        "colab": {
          "base_uri": "https://localhost:8080/"
        },
        "id": "w2MMhiHGuGFH",
        "outputId": "e4cc3327-aaa6-4003-fa2b-c43b8002ad14"
      },
      "execution_count": null,
      "outputs": [
        {
          "output_type": "execute_result",
          "data": {
            "text/plain": [
              "PublishedAt\n",
              "2021-11-30    tembak misterius exit tol bintaro laku nyata p...\n",
              "2021-11-30    tangis keluarga pecah iring makam jenazah korb...\n",
              "2021-11-30    orang pria kuntit buah sabun bersih wajah mini...\n",
              "2021-11-30        bakar gudang cikupa bakar mobil bakar selidik\n",
              "2021-11-30    gubernur dki jakarta ahmad sahroni ketua laksa...\n",
              "                                    ...                        \n",
              "2021-11-01    indah alam desa wisata ngilngof pasir pantai h...\n",
              "2021-11-01    pekan pantai pasir putih carita padat unjung d...\n",
              "2021-11-01                 satgas covid transisi pandemi endemi\n",
              "2021-11-01    negara g sepakat bentuk kerja pulih ekonomi se...\n",
              "2021-11-01    mantap budidaya sansevieria alias lidah mertua...\n",
              "Name: Title, Length: 4563, dtype: object"
            ]
          },
          "metadata": {},
          "execution_count": 30
        }
      ]
    },
    {
      "cell_type": "markdown",
      "source": [
        "Membuat Document Term Matrix\n",
        "\n",
        "*Document Term Matrix* adalah matriks yang berisi frekuensi kata-kata atau frasa dalam tiap dokumen. Dalam hal ini, baris pada *Document Term Matrix* merepresentasikan suatu judul berita, kolom merepresentasikan frasa yang ada pada judul berita tersebut, dan sel merepresentasikan banyaknya kata pada dari kolom tersebut muncul pada judul berita. "
      ],
      "metadata": {
        "id": "jOvkukZQwSUQ"
      }
    },
    {
      "cell_type": "code",
      "source": [
        "pip install sklearn"
      ],
      "metadata": {
        "colab": {
          "base_uri": "https://localhost:8080/"
        },
        "id": "hKtaPFApgHJz",
        "outputId": "655170df-c7b6-4a29-9f24-b3fc59ad2904"
      },
      "execution_count": null,
      "outputs": [
        {
          "output_type": "stream",
          "name": "stdout",
          "text": [
            "Requirement already satisfied: sklearn in /usr/local/lib/python3.7/dist-packages (0.0)\n",
            "Requirement already satisfied: scikit-learn in /usr/local/lib/python3.7/dist-packages (from sklearn) (1.0.2)\n",
            "Requirement already satisfied: threadpoolctl>=2.0.0 in /usr/local/lib/python3.7/dist-packages (from scikit-learn->sklearn) (3.1.0)\n",
            "Requirement already satisfied: numpy>=1.14.6 in /usr/local/lib/python3.7/dist-packages (from scikit-learn->sklearn) (1.21.6)\n",
            "Requirement already satisfied: scipy>=1.1.0 in /usr/local/lib/python3.7/dist-packages (from scikit-learn->sklearn) (1.4.1)\n",
            "Requirement already satisfied: joblib>=0.11 in /usr/local/lib/python3.7/dist-packages (from scikit-learn->sklearn) (1.1.0)\n"
          ]
        }
      ]
    },
    {
      "cell_type": "code",
      "source": [
        "import numpy as np"
      ],
      "metadata": {
        "id": "EwBAmZ-fg0k2"
      },
      "execution_count": null,
      "outputs": []
    },
    {
      "cell_type": "code",
      "source": [
        "from sklearn.feature_extraction.text import CountVectorizer\n",
        "vectorizer = CountVectorizer(ngram_range =(3,3), min_df = 10)\n",
        "doc_matrix = vectorizer.fit_transform(Title_Nov2021)\n",
        "doc_matrix = doc_matrix.toarray()"
      ],
      "metadata": {
        "id": "ynAx0aZUgF8W"
      },
      "execution_count": null,
      "outputs": []
    },
    {
      "cell_type": "code",
      "source": [
        "doc_df = pd.DataFrame(data = doc_matrix)\n",
        "doc_df.columns = vectorizer.get_feature_names()\n",
        "display(doc_df.head())"
      ],
      "metadata": {
        "colab": {
          "base_uri": "https://localhost:8080/",
          "height": 369
        },
        "id": "AsMC3NAOg6lG",
        "outputId": "e26dc7e3-f6a1-4ce8-cca7-43d4fb4db649"
      },
      "execution_count": null,
      "outputs": [
        {
          "output_type": "stream",
          "name": "stderr",
          "text": [
            "/usr/local/lib/python3.7/dist-packages/sklearn/utils/deprecation.py:87: FutureWarning: Function get_feature_names is deprecated; get_feature_names is deprecated in 1.0 and will be removed in 1.2. Please use get_feature_names_out instead.\n",
            "  warnings.warn(msg, category=FutureWarning)\n"
          ]
        },
        {
          "output_type": "display_data",
          "data": {
            "text/plain": [
              "   andika perkasa panglima  bakar tangki kilang  bandang kota batu  \\\n",
              "0                        0                    0                  0   \n",
              "1                        0                    0                  0   \n",
              "2                        0                    0                  0   \n",
              "3                        0                    0                  0   \n",
              "4                        0                    0                  0   \n",
              "\n",
              "   banjir bandang kota  calon panglima tni  corona indonesia november  \\\n",
              "0                    0                   0                          0   \n",
              "1                    0                   0                          0   \n",
              "2                    0                   0                          0   \n",
              "3                    0                   0                          0   \n",
              "4                    0                   0                          0   \n",
              "\n",
              "   covid indonesia november  duga leceh seksual  harga minyak goreng  \\\n",
              "0                         0                   0                    0   \n",
              "1                         0                   0                    0   \n",
              "2                         0                   0                    0   \n",
              "3                         0                   0                    0   \n",
              "4                         0                   0                    0   \n",
              "\n",
              "   indonesia november positif  ...  polisi tangkap laku  presiden joko widodo  \\\n",
              "0                           0  ...                    0                     0   \n",
              "1                           0  ...                    0                     0   \n",
              "2                           0  ...                    0                     0   \n",
              "3                           0  ...                    0                     0   \n",
              "4                           0  ...                    0                     0   \n",
              "\n",
              "   sopir vanessa angel  tangan covid indonesia  tni andika perkasa  \\\n",
              "0                    0                       0                   0   \n",
              "1                    0                       0                   0   \n",
              "2                    0                       0                   0   \n",
              "3                    0                       0                   0   \n",
              "4                    0                       0                   0   \n",
              "\n",
              "   tni jenderal andika  update corona indonesia  uu cipta kerja  \\\n",
              "0                    0                        0               0   \n",
              "1                    0                        0               0   \n",
              "2                    0                        0               0   \n",
              "3                    0                        0               0   \n",
              "4                    0                        0               0   \n",
              "\n",
              "   vanessa angel suami  varian covid omicron  \n",
              "0                    0                     0  \n",
              "1                    0                     0  \n",
              "2                    0                     0  \n",
              "3                    0                     0  \n",
              "4                    0                     0  \n",
              "\n",
              "[5 rows x 24 columns]"
            ],
            "text/html": [
              "\n",
              "  <div id=\"df-c4cef98d-e7fa-4a3d-a377-27d5e136a8f7\">\n",
              "    <div class=\"colab-df-container\">\n",
              "      <div>\n",
              "<style scoped>\n",
              "    .dataframe tbody tr th:only-of-type {\n",
              "        vertical-align: middle;\n",
              "    }\n",
              "\n",
              "    .dataframe tbody tr th {\n",
              "        vertical-align: top;\n",
              "    }\n",
              "\n",
              "    .dataframe thead th {\n",
              "        text-align: right;\n",
              "    }\n",
              "</style>\n",
              "<table border=\"1\" class=\"dataframe\">\n",
              "  <thead>\n",
              "    <tr style=\"text-align: right;\">\n",
              "      <th></th>\n",
              "      <th>andika perkasa panglima</th>\n",
              "      <th>bakar tangki kilang</th>\n",
              "      <th>bandang kota batu</th>\n",
              "      <th>banjir bandang kota</th>\n",
              "      <th>calon panglima tni</th>\n",
              "      <th>corona indonesia november</th>\n",
              "      <th>covid indonesia november</th>\n",
              "      <th>duga leceh seksual</th>\n",
              "      <th>harga minyak goreng</th>\n",
              "      <th>indonesia november positif</th>\n",
              "      <th>...</th>\n",
              "      <th>polisi tangkap laku</th>\n",
              "      <th>presiden joko widodo</th>\n",
              "      <th>sopir vanessa angel</th>\n",
              "      <th>tangan covid indonesia</th>\n",
              "      <th>tni andika perkasa</th>\n",
              "      <th>tni jenderal andika</th>\n",
              "      <th>update corona indonesia</th>\n",
              "      <th>uu cipta kerja</th>\n",
              "      <th>vanessa angel suami</th>\n",
              "      <th>varian covid omicron</th>\n",
              "    </tr>\n",
              "  </thead>\n",
              "  <tbody>\n",
              "    <tr>\n",
              "      <th>0</th>\n",
              "      <td>0</td>\n",
              "      <td>0</td>\n",
              "      <td>0</td>\n",
              "      <td>0</td>\n",
              "      <td>0</td>\n",
              "      <td>0</td>\n",
              "      <td>0</td>\n",
              "      <td>0</td>\n",
              "      <td>0</td>\n",
              "      <td>0</td>\n",
              "      <td>...</td>\n",
              "      <td>0</td>\n",
              "      <td>0</td>\n",
              "      <td>0</td>\n",
              "      <td>0</td>\n",
              "      <td>0</td>\n",
              "      <td>0</td>\n",
              "      <td>0</td>\n",
              "      <td>0</td>\n",
              "      <td>0</td>\n",
              "      <td>0</td>\n",
              "    </tr>\n",
              "    <tr>\n",
              "      <th>1</th>\n",
              "      <td>0</td>\n",
              "      <td>0</td>\n",
              "      <td>0</td>\n",
              "      <td>0</td>\n",
              "      <td>0</td>\n",
              "      <td>0</td>\n",
              "      <td>0</td>\n",
              "      <td>0</td>\n",
              "      <td>0</td>\n",
              "      <td>0</td>\n",
              "      <td>...</td>\n",
              "      <td>0</td>\n",
              "      <td>0</td>\n",
              "      <td>0</td>\n",
              "      <td>0</td>\n",
              "      <td>0</td>\n",
              "      <td>0</td>\n",
              "      <td>0</td>\n",
              "      <td>0</td>\n",
              "      <td>0</td>\n",
              "      <td>0</td>\n",
              "    </tr>\n",
              "    <tr>\n",
              "      <th>2</th>\n",
              "      <td>0</td>\n",
              "      <td>0</td>\n",
              "      <td>0</td>\n",
              "      <td>0</td>\n",
              "      <td>0</td>\n",
              "      <td>0</td>\n",
              "      <td>0</td>\n",
              "      <td>0</td>\n",
              "      <td>0</td>\n",
              "      <td>0</td>\n",
              "      <td>...</td>\n",
              "      <td>0</td>\n",
              "      <td>0</td>\n",
              "      <td>0</td>\n",
              "      <td>0</td>\n",
              "      <td>0</td>\n",
              "      <td>0</td>\n",
              "      <td>0</td>\n",
              "      <td>0</td>\n",
              "      <td>0</td>\n",
              "      <td>0</td>\n",
              "    </tr>\n",
              "    <tr>\n",
              "      <th>3</th>\n",
              "      <td>0</td>\n",
              "      <td>0</td>\n",
              "      <td>0</td>\n",
              "      <td>0</td>\n",
              "      <td>0</td>\n",
              "      <td>0</td>\n",
              "      <td>0</td>\n",
              "      <td>0</td>\n",
              "      <td>0</td>\n",
              "      <td>0</td>\n",
              "      <td>...</td>\n",
              "      <td>0</td>\n",
              "      <td>0</td>\n",
              "      <td>0</td>\n",
              "      <td>0</td>\n",
              "      <td>0</td>\n",
              "      <td>0</td>\n",
              "      <td>0</td>\n",
              "      <td>0</td>\n",
              "      <td>0</td>\n",
              "      <td>0</td>\n",
              "    </tr>\n",
              "    <tr>\n",
              "      <th>4</th>\n",
              "      <td>0</td>\n",
              "      <td>0</td>\n",
              "      <td>0</td>\n",
              "      <td>0</td>\n",
              "      <td>0</td>\n",
              "      <td>0</td>\n",
              "      <td>0</td>\n",
              "      <td>0</td>\n",
              "      <td>0</td>\n",
              "      <td>0</td>\n",
              "      <td>...</td>\n",
              "      <td>0</td>\n",
              "      <td>0</td>\n",
              "      <td>0</td>\n",
              "      <td>0</td>\n",
              "      <td>0</td>\n",
              "      <td>0</td>\n",
              "      <td>0</td>\n",
              "      <td>0</td>\n",
              "      <td>0</td>\n",
              "      <td>0</td>\n",
              "    </tr>\n",
              "  </tbody>\n",
              "</table>\n",
              "<p>5 rows × 24 columns</p>\n",
              "</div>\n",
              "      <button class=\"colab-df-convert\" onclick=\"convertToInteractive('df-c4cef98d-e7fa-4a3d-a377-27d5e136a8f7')\"\n",
              "              title=\"Convert this dataframe to an interactive table.\"\n",
              "              style=\"display:none;\">\n",
              "        \n",
              "  <svg xmlns=\"http://www.w3.org/2000/svg\" height=\"24px\"viewBox=\"0 0 24 24\"\n",
              "       width=\"24px\">\n",
              "    <path d=\"M0 0h24v24H0V0z\" fill=\"none\"/>\n",
              "    <path d=\"M18.56 5.44l.94 2.06.94-2.06 2.06-.94-2.06-.94-.94-2.06-.94 2.06-2.06.94zm-11 1L8.5 8.5l.94-2.06 2.06-.94-2.06-.94L8.5 2.5l-.94 2.06-2.06.94zm10 10l.94 2.06.94-2.06 2.06-.94-2.06-.94-.94-2.06-.94 2.06-2.06.94z\"/><path d=\"M17.41 7.96l-1.37-1.37c-.4-.4-.92-.59-1.43-.59-.52 0-1.04.2-1.43.59L10.3 9.45l-7.72 7.72c-.78.78-.78 2.05 0 2.83L4 21.41c.39.39.9.59 1.41.59.51 0 1.02-.2 1.41-.59l7.78-7.78 2.81-2.81c.8-.78.8-2.07 0-2.86zM5.41 20L4 18.59l7.72-7.72 1.47 1.35L5.41 20z\"/>\n",
              "  </svg>\n",
              "      </button>\n",
              "      \n",
              "  <style>\n",
              "    .colab-df-container {\n",
              "      display:flex;\n",
              "      flex-wrap:wrap;\n",
              "      gap: 12px;\n",
              "    }\n",
              "\n",
              "    .colab-df-convert {\n",
              "      background-color: #E8F0FE;\n",
              "      border: none;\n",
              "      border-radius: 50%;\n",
              "      cursor: pointer;\n",
              "      display: none;\n",
              "      fill: #1967D2;\n",
              "      height: 32px;\n",
              "      padding: 0 0 0 0;\n",
              "      width: 32px;\n",
              "    }\n",
              "\n",
              "    .colab-df-convert:hover {\n",
              "      background-color: #E2EBFA;\n",
              "      box-shadow: 0px 1px 2px rgba(60, 64, 67, 0.3), 0px 1px 3px 1px rgba(60, 64, 67, 0.15);\n",
              "      fill: #174EA6;\n",
              "    }\n",
              "\n",
              "    [theme=dark] .colab-df-convert {\n",
              "      background-color: #3B4455;\n",
              "      fill: #D2E3FC;\n",
              "    }\n",
              "\n",
              "    [theme=dark] .colab-df-convert:hover {\n",
              "      background-color: #434B5C;\n",
              "      box-shadow: 0px 1px 3px 1px rgba(0, 0, 0, 0.15);\n",
              "      filter: drop-shadow(0px 1px 2px rgba(0, 0, 0, 0.3));\n",
              "      fill: #FFFFFF;\n",
              "    }\n",
              "  </style>\n",
              "\n",
              "      <script>\n",
              "        const buttonEl =\n",
              "          document.querySelector('#df-c4cef98d-e7fa-4a3d-a377-27d5e136a8f7 button.colab-df-convert');\n",
              "        buttonEl.style.display =\n",
              "          google.colab.kernel.accessAllowed ? 'block' : 'none';\n",
              "\n",
              "        async function convertToInteractive(key) {\n",
              "          const element = document.querySelector('#df-c4cef98d-e7fa-4a3d-a377-27d5e136a8f7');\n",
              "          const dataTable =\n",
              "            await google.colab.kernel.invokeFunction('convertToInteractive',\n",
              "                                                     [key], {});\n",
              "          if (!dataTable) return;\n",
              "\n",
              "          const docLinkHtml = 'Like what you see? Visit the ' +\n",
              "            '<a target=\"_blank\" href=https://colab.research.google.com/notebooks/data_table.ipynb>data table notebook</a>'\n",
              "            + ' to learn more about interactive tables.';\n",
              "          element.innerHTML = '';\n",
              "          dataTable['output_type'] = 'display_data';\n",
              "          await google.colab.output.renderOutput(dataTable, element);\n",
              "          const docLink = document.createElement('div');\n",
              "          docLink.innerHTML = docLinkHtml;\n",
              "          element.appendChild(docLink);\n",
              "        }\n",
              "      </script>\n",
              "    </div>\n",
              "  </div>\n",
              "  "
            ]
          },
          "metadata": {}
        }
      ]
    },
    {
      "cell_type": "markdown",
      "source": [
        "Membuat n-gram\n",
        "\n",
        "Salah satu eksplorasi sederhana dalam text mining yaitu membentuk n-gram. N-gram digunakan untuk mengetahui frasa-frasa yang sering muncul dalam dokumen. Dalam hal ini, digunakan 3-gram yang berarti frasa yang digunakan berasal dari 3 kata. "
      ],
      "metadata": {
        "id": "2XwMmqR0y4G0"
      }
    },
    {
      "cell_type": "code",
      "source": [
        "doc_df.loc['Total',:] = doc_df.sum(axis=0)\n",
        "doc_df.iloc[:, np.argsort(doc_df.loc['Total'])]"
      ],
      "metadata": {
        "colab": {
          "base_uri": "https://localhost:8080/",
          "height": 522
        },
        "id": "qMPs5r3khBZX",
        "outputId": "50bb1397-3527-4534-d581-750267558371"
      },
      "execution_count": null,
      "outputs": [
        {
          "output_type": "execute_result",
          "data": {
            "text/plain": [
              "       lantik panglima tni  tni andika perkasa  tangan covid indonesia  \\\n",
              "0                      0.0                 0.0                     0.0   \n",
              "1                      0.0                 0.0                     0.0   \n",
              "2                      0.0                 0.0                     0.0   \n",
              "3                      0.0                 0.0                     0.0   \n",
              "4                      0.0                 0.0                     0.0   \n",
              "...                    ...                 ...                     ...   \n",
              "4559                   0.0                 0.0                     0.0   \n",
              "4560                   0.0                 0.0                     0.0   \n",
              "4561                   0.0                 0.0                     0.0   \n",
              "4562                   0.0                 0.0                     0.0   \n",
              "Total                 10.0                10.0                    10.0   \n",
              "\n",
              "       presiden joko widodo  polisi tangkap laku  indonesia november positif  \\\n",
              "0                       0.0                  0.0                         0.0   \n",
              "1                       0.0                  0.0                         0.0   \n",
              "2                       0.0                  0.0                         0.0   \n",
              "3                       0.0                  0.0                         0.0   \n",
              "4                       0.0                  0.0                         0.0   \n",
              "...                     ...                  ...                         ...   \n",
              "4559                    0.0                  0.0                         0.0   \n",
              "4560                    0.0                  0.0                         0.0   \n",
              "4561                    0.0                  0.0                         0.0   \n",
              "4562                    0.0                  0.0                         0.0   \n",
              "Total                  11.0                 11.0                        11.0   \n",
              "\n",
              "       varian covid omicron  bakar tangki kilang  vanessa angel suami  \\\n",
              "0                       0.0                  0.0                  0.0   \n",
              "1                       0.0                  0.0                  0.0   \n",
              "2                       0.0                  0.0                  0.0   \n",
              "3                       0.0                  0.0                  0.0   \n",
              "4                       0.0                  0.0                  0.0   \n",
              "...                     ...                  ...                  ...   \n",
              "4559                    0.0                  0.0                  0.0   \n",
              "4560                    0.0                  0.0                  0.0   \n",
              "4561                    0.0                  0.0                  0.0   \n",
              "4562                    0.0                  0.0                  0.0   \n",
              "Total                  12.0                 12.0                 13.0   \n",
              "\n",
              "       covid indonesia november  ...  update corona indonesia  \\\n",
              "0                           0.0  ...                      0.0   \n",
              "1                           0.0  ...                      0.0   \n",
              "2                           0.0  ...                      0.0   \n",
              "3                           0.0  ...                      0.0   \n",
              "4                           0.0  ...                      0.0   \n",
              "...                         ...  ...                      ...   \n",
              "4559                        0.0  ...                      0.0   \n",
              "4560                        0.0  ...                      0.0   \n",
              "4561                        0.0  ...                      0.0   \n",
              "4562                        0.0  ...                      0.0   \n",
              "Total                      13.0  ...                     17.0   \n",
              "\n",
              "       panglima tni jenderal  tni jenderal andika  sopir vanessa angel  \\\n",
              "0                        0.0                  0.0                  0.0   \n",
              "1                        0.0                  0.0                  0.0   \n",
              "2                        0.0                  0.0                  0.0   \n",
              "3                        0.0                  0.0                  0.0   \n",
              "4                        0.0                  0.0                  0.0   \n",
              "...                      ...                  ...                  ...   \n",
              "4559                     0.0                  0.0                  0.0   \n",
              "4560                     0.0                  0.0                  0.0   \n",
              "4561                     0.0                  0.0                  0.0   \n",
              "4562                     0.0                  0.0                  0.0   \n",
              "Total                   20.0                 20.0                 20.0   \n",
              "\n",
              "       banjir bandang kota  bandang kota batu  perkasa panglima tni  \\\n",
              "0                      0.0                0.0                   0.0   \n",
              "1                      0.0                0.0                   0.0   \n",
              "2                      0.0                0.0                   0.0   \n",
              "3                      0.0                0.0                   0.0   \n",
              "4                      0.0                0.0                   0.0   \n",
              "...                    ...                ...                   ...   \n",
              "4559                   0.0                0.0                   0.0   \n",
              "4560                   0.0                0.0                   0.0   \n",
              "4561                   0.0                0.0                   0.0   \n",
              "4562                   0.0                0.0                   0.0   \n",
              "Total                 22.0               22.0                  23.0   \n",
              "\n",
              "       andika perkasa panglima  calon panglima tni  jenderal andika perkasa  \n",
              "0                          0.0                 0.0                      0.0  \n",
              "1                          0.0                 0.0                      0.0  \n",
              "2                          0.0                 0.0                      0.0  \n",
              "3                          0.0                 0.0                      0.0  \n",
              "4                          0.0                 0.0                      0.0  \n",
              "...                        ...                 ...                      ...  \n",
              "4559                       0.0                 0.0                      0.0  \n",
              "4560                       0.0                 0.0                      0.0  \n",
              "4561                       0.0                 0.0                      0.0  \n",
              "4562                       0.0                 0.0                      0.0  \n",
              "Total                     23.0                27.0                     55.0  \n",
              "\n",
              "[4564 rows x 24 columns]"
            ],
            "text/html": [
              "\n",
              "  <div id=\"df-592e6867-8a6f-4993-97b0-0ff6f6b1b098\">\n",
              "    <div class=\"colab-df-container\">\n",
              "      <div>\n",
              "<style scoped>\n",
              "    .dataframe tbody tr th:only-of-type {\n",
              "        vertical-align: middle;\n",
              "    }\n",
              "\n",
              "    .dataframe tbody tr th {\n",
              "        vertical-align: top;\n",
              "    }\n",
              "\n",
              "    .dataframe thead th {\n",
              "        text-align: right;\n",
              "    }\n",
              "</style>\n",
              "<table border=\"1\" class=\"dataframe\">\n",
              "  <thead>\n",
              "    <tr style=\"text-align: right;\">\n",
              "      <th></th>\n",
              "      <th>lantik panglima tni</th>\n",
              "      <th>tni andika perkasa</th>\n",
              "      <th>tangan covid indonesia</th>\n",
              "      <th>presiden joko widodo</th>\n",
              "      <th>polisi tangkap laku</th>\n",
              "      <th>indonesia november positif</th>\n",
              "      <th>varian covid omicron</th>\n",
              "      <th>bakar tangki kilang</th>\n",
              "      <th>vanessa angel suami</th>\n",
              "      <th>covid indonesia november</th>\n",
              "      <th>...</th>\n",
              "      <th>update corona indonesia</th>\n",
              "      <th>panglima tni jenderal</th>\n",
              "      <th>tni jenderal andika</th>\n",
              "      <th>sopir vanessa angel</th>\n",
              "      <th>banjir bandang kota</th>\n",
              "      <th>bandang kota batu</th>\n",
              "      <th>perkasa panglima tni</th>\n",
              "      <th>andika perkasa panglima</th>\n",
              "      <th>calon panglima tni</th>\n",
              "      <th>jenderal andika perkasa</th>\n",
              "    </tr>\n",
              "  </thead>\n",
              "  <tbody>\n",
              "    <tr>\n",
              "      <th>0</th>\n",
              "      <td>0.0</td>\n",
              "      <td>0.0</td>\n",
              "      <td>0.0</td>\n",
              "      <td>0.0</td>\n",
              "      <td>0.0</td>\n",
              "      <td>0.0</td>\n",
              "      <td>0.0</td>\n",
              "      <td>0.0</td>\n",
              "      <td>0.0</td>\n",
              "      <td>0.0</td>\n",
              "      <td>...</td>\n",
              "      <td>0.0</td>\n",
              "      <td>0.0</td>\n",
              "      <td>0.0</td>\n",
              "      <td>0.0</td>\n",
              "      <td>0.0</td>\n",
              "      <td>0.0</td>\n",
              "      <td>0.0</td>\n",
              "      <td>0.0</td>\n",
              "      <td>0.0</td>\n",
              "      <td>0.0</td>\n",
              "    </tr>\n",
              "    <tr>\n",
              "      <th>1</th>\n",
              "      <td>0.0</td>\n",
              "      <td>0.0</td>\n",
              "      <td>0.0</td>\n",
              "      <td>0.0</td>\n",
              "      <td>0.0</td>\n",
              "      <td>0.0</td>\n",
              "      <td>0.0</td>\n",
              "      <td>0.0</td>\n",
              "      <td>0.0</td>\n",
              "      <td>0.0</td>\n",
              "      <td>...</td>\n",
              "      <td>0.0</td>\n",
              "      <td>0.0</td>\n",
              "      <td>0.0</td>\n",
              "      <td>0.0</td>\n",
              "      <td>0.0</td>\n",
              "      <td>0.0</td>\n",
              "      <td>0.0</td>\n",
              "      <td>0.0</td>\n",
              "      <td>0.0</td>\n",
              "      <td>0.0</td>\n",
              "    </tr>\n",
              "    <tr>\n",
              "      <th>2</th>\n",
              "      <td>0.0</td>\n",
              "      <td>0.0</td>\n",
              "      <td>0.0</td>\n",
              "      <td>0.0</td>\n",
              "      <td>0.0</td>\n",
              "      <td>0.0</td>\n",
              "      <td>0.0</td>\n",
              "      <td>0.0</td>\n",
              "      <td>0.0</td>\n",
              "      <td>0.0</td>\n",
              "      <td>...</td>\n",
              "      <td>0.0</td>\n",
              "      <td>0.0</td>\n",
              "      <td>0.0</td>\n",
              "      <td>0.0</td>\n",
              "      <td>0.0</td>\n",
              "      <td>0.0</td>\n",
              "      <td>0.0</td>\n",
              "      <td>0.0</td>\n",
              "      <td>0.0</td>\n",
              "      <td>0.0</td>\n",
              "    </tr>\n",
              "    <tr>\n",
              "      <th>3</th>\n",
              "      <td>0.0</td>\n",
              "      <td>0.0</td>\n",
              "      <td>0.0</td>\n",
              "      <td>0.0</td>\n",
              "      <td>0.0</td>\n",
              "      <td>0.0</td>\n",
              "      <td>0.0</td>\n",
              "      <td>0.0</td>\n",
              "      <td>0.0</td>\n",
              "      <td>0.0</td>\n",
              "      <td>...</td>\n",
              "      <td>0.0</td>\n",
              "      <td>0.0</td>\n",
              "      <td>0.0</td>\n",
              "      <td>0.0</td>\n",
              "      <td>0.0</td>\n",
              "      <td>0.0</td>\n",
              "      <td>0.0</td>\n",
              "      <td>0.0</td>\n",
              "      <td>0.0</td>\n",
              "      <td>0.0</td>\n",
              "    </tr>\n",
              "    <tr>\n",
              "      <th>4</th>\n",
              "      <td>0.0</td>\n",
              "      <td>0.0</td>\n",
              "      <td>0.0</td>\n",
              "      <td>0.0</td>\n",
              "      <td>0.0</td>\n",
              "      <td>0.0</td>\n",
              "      <td>0.0</td>\n",
              "      <td>0.0</td>\n",
              "      <td>0.0</td>\n",
              "      <td>0.0</td>\n",
              "      <td>...</td>\n",
              "      <td>0.0</td>\n",
              "      <td>0.0</td>\n",
              "      <td>0.0</td>\n",
              "      <td>0.0</td>\n",
              "      <td>0.0</td>\n",
              "      <td>0.0</td>\n",
              "      <td>0.0</td>\n",
              "      <td>0.0</td>\n",
              "      <td>0.0</td>\n",
              "      <td>0.0</td>\n",
              "    </tr>\n",
              "    <tr>\n",
              "      <th>...</th>\n",
              "      <td>...</td>\n",
              "      <td>...</td>\n",
              "      <td>...</td>\n",
              "      <td>...</td>\n",
              "      <td>...</td>\n",
              "      <td>...</td>\n",
              "      <td>...</td>\n",
              "      <td>...</td>\n",
              "      <td>...</td>\n",
              "      <td>...</td>\n",
              "      <td>...</td>\n",
              "      <td>...</td>\n",
              "      <td>...</td>\n",
              "      <td>...</td>\n",
              "      <td>...</td>\n",
              "      <td>...</td>\n",
              "      <td>...</td>\n",
              "      <td>...</td>\n",
              "      <td>...</td>\n",
              "      <td>...</td>\n",
              "      <td>...</td>\n",
              "    </tr>\n",
              "    <tr>\n",
              "      <th>4559</th>\n",
              "      <td>0.0</td>\n",
              "      <td>0.0</td>\n",
              "      <td>0.0</td>\n",
              "      <td>0.0</td>\n",
              "      <td>0.0</td>\n",
              "      <td>0.0</td>\n",
              "      <td>0.0</td>\n",
              "      <td>0.0</td>\n",
              "      <td>0.0</td>\n",
              "      <td>0.0</td>\n",
              "      <td>...</td>\n",
              "      <td>0.0</td>\n",
              "      <td>0.0</td>\n",
              "      <td>0.0</td>\n",
              "      <td>0.0</td>\n",
              "      <td>0.0</td>\n",
              "      <td>0.0</td>\n",
              "      <td>0.0</td>\n",
              "      <td>0.0</td>\n",
              "      <td>0.0</td>\n",
              "      <td>0.0</td>\n",
              "    </tr>\n",
              "    <tr>\n",
              "      <th>4560</th>\n",
              "      <td>0.0</td>\n",
              "      <td>0.0</td>\n",
              "      <td>0.0</td>\n",
              "      <td>0.0</td>\n",
              "      <td>0.0</td>\n",
              "      <td>0.0</td>\n",
              "      <td>0.0</td>\n",
              "      <td>0.0</td>\n",
              "      <td>0.0</td>\n",
              "      <td>0.0</td>\n",
              "      <td>...</td>\n",
              "      <td>0.0</td>\n",
              "      <td>0.0</td>\n",
              "      <td>0.0</td>\n",
              "      <td>0.0</td>\n",
              "      <td>0.0</td>\n",
              "      <td>0.0</td>\n",
              "      <td>0.0</td>\n",
              "      <td>0.0</td>\n",
              "      <td>0.0</td>\n",
              "      <td>0.0</td>\n",
              "    </tr>\n",
              "    <tr>\n",
              "      <th>4561</th>\n",
              "      <td>0.0</td>\n",
              "      <td>0.0</td>\n",
              "      <td>0.0</td>\n",
              "      <td>0.0</td>\n",
              "      <td>0.0</td>\n",
              "      <td>0.0</td>\n",
              "      <td>0.0</td>\n",
              "      <td>0.0</td>\n",
              "      <td>0.0</td>\n",
              "      <td>0.0</td>\n",
              "      <td>...</td>\n",
              "      <td>0.0</td>\n",
              "      <td>0.0</td>\n",
              "      <td>0.0</td>\n",
              "      <td>0.0</td>\n",
              "      <td>0.0</td>\n",
              "      <td>0.0</td>\n",
              "      <td>0.0</td>\n",
              "      <td>0.0</td>\n",
              "      <td>0.0</td>\n",
              "      <td>0.0</td>\n",
              "    </tr>\n",
              "    <tr>\n",
              "      <th>4562</th>\n",
              "      <td>0.0</td>\n",
              "      <td>0.0</td>\n",
              "      <td>0.0</td>\n",
              "      <td>0.0</td>\n",
              "      <td>0.0</td>\n",
              "      <td>0.0</td>\n",
              "      <td>0.0</td>\n",
              "      <td>0.0</td>\n",
              "      <td>0.0</td>\n",
              "      <td>0.0</td>\n",
              "      <td>...</td>\n",
              "      <td>0.0</td>\n",
              "      <td>0.0</td>\n",
              "      <td>0.0</td>\n",
              "      <td>0.0</td>\n",
              "      <td>0.0</td>\n",
              "      <td>0.0</td>\n",
              "      <td>0.0</td>\n",
              "      <td>0.0</td>\n",
              "      <td>0.0</td>\n",
              "      <td>0.0</td>\n",
              "    </tr>\n",
              "    <tr>\n",
              "      <th>Total</th>\n",
              "      <td>10.0</td>\n",
              "      <td>10.0</td>\n",
              "      <td>10.0</td>\n",
              "      <td>11.0</td>\n",
              "      <td>11.0</td>\n",
              "      <td>11.0</td>\n",
              "      <td>12.0</td>\n",
              "      <td>12.0</td>\n",
              "      <td>13.0</td>\n",
              "      <td>13.0</td>\n",
              "      <td>...</td>\n",
              "      <td>17.0</td>\n",
              "      <td>20.0</td>\n",
              "      <td>20.0</td>\n",
              "      <td>20.0</td>\n",
              "      <td>22.0</td>\n",
              "      <td>22.0</td>\n",
              "      <td>23.0</td>\n",
              "      <td>23.0</td>\n",
              "      <td>27.0</td>\n",
              "      <td>55.0</td>\n",
              "    </tr>\n",
              "  </tbody>\n",
              "</table>\n",
              "<p>4564 rows × 24 columns</p>\n",
              "</div>\n",
              "      <button class=\"colab-df-convert\" onclick=\"convertToInteractive('df-592e6867-8a6f-4993-97b0-0ff6f6b1b098')\"\n",
              "              title=\"Convert this dataframe to an interactive table.\"\n",
              "              style=\"display:none;\">\n",
              "        \n",
              "  <svg xmlns=\"http://www.w3.org/2000/svg\" height=\"24px\"viewBox=\"0 0 24 24\"\n",
              "       width=\"24px\">\n",
              "    <path d=\"M0 0h24v24H0V0z\" fill=\"none\"/>\n",
              "    <path d=\"M18.56 5.44l.94 2.06.94-2.06 2.06-.94-2.06-.94-.94-2.06-.94 2.06-2.06.94zm-11 1L8.5 8.5l.94-2.06 2.06-.94-2.06-.94L8.5 2.5l-.94 2.06-2.06.94zm10 10l.94 2.06.94-2.06 2.06-.94-2.06-.94-.94-2.06-.94 2.06-2.06.94z\"/><path d=\"M17.41 7.96l-1.37-1.37c-.4-.4-.92-.59-1.43-.59-.52 0-1.04.2-1.43.59L10.3 9.45l-7.72 7.72c-.78.78-.78 2.05 0 2.83L4 21.41c.39.39.9.59 1.41.59.51 0 1.02-.2 1.41-.59l7.78-7.78 2.81-2.81c.8-.78.8-2.07 0-2.86zM5.41 20L4 18.59l7.72-7.72 1.47 1.35L5.41 20z\"/>\n",
              "  </svg>\n",
              "      </button>\n",
              "      \n",
              "  <style>\n",
              "    .colab-df-container {\n",
              "      display:flex;\n",
              "      flex-wrap:wrap;\n",
              "      gap: 12px;\n",
              "    }\n",
              "\n",
              "    .colab-df-convert {\n",
              "      background-color: #E8F0FE;\n",
              "      border: none;\n",
              "      border-radius: 50%;\n",
              "      cursor: pointer;\n",
              "      display: none;\n",
              "      fill: #1967D2;\n",
              "      height: 32px;\n",
              "      padding: 0 0 0 0;\n",
              "      width: 32px;\n",
              "    }\n",
              "\n",
              "    .colab-df-convert:hover {\n",
              "      background-color: #E2EBFA;\n",
              "      box-shadow: 0px 1px 2px rgba(60, 64, 67, 0.3), 0px 1px 3px 1px rgba(60, 64, 67, 0.15);\n",
              "      fill: #174EA6;\n",
              "    }\n",
              "\n",
              "    [theme=dark] .colab-df-convert {\n",
              "      background-color: #3B4455;\n",
              "      fill: #D2E3FC;\n",
              "    }\n",
              "\n",
              "    [theme=dark] .colab-df-convert:hover {\n",
              "      background-color: #434B5C;\n",
              "      box-shadow: 0px 1px 3px 1px rgba(0, 0, 0, 0.15);\n",
              "      filter: drop-shadow(0px 1px 2px rgba(0, 0, 0, 0.3));\n",
              "      fill: #FFFFFF;\n",
              "    }\n",
              "  </style>\n",
              "\n",
              "      <script>\n",
              "        const buttonEl =\n",
              "          document.querySelector('#df-592e6867-8a6f-4993-97b0-0ff6f6b1b098 button.colab-df-convert');\n",
              "        buttonEl.style.display =\n",
              "          google.colab.kernel.accessAllowed ? 'block' : 'none';\n",
              "\n",
              "        async function convertToInteractive(key) {\n",
              "          const element = document.querySelector('#df-592e6867-8a6f-4993-97b0-0ff6f6b1b098');\n",
              "          const dataTable =\n",
              "            await google.colab.kernel.invokeFunction('convertToInteractive',\n",
              "                                                     [key], {});\n",
              "          if (!dataTable) return;\n",
              "\n",
              "          const docLinkHtml = 'Like what you see? Visit the ' +\n",
              "            '<a target=\"_blank\" href=https://colab.research.google.com/notebooks/data_table.ipynb>data table notebook</a>'\n",
              "            + ' to learn more about interactive tables.';\n",
              "          element.innerHTML = '';\n",
              "          dataTable['output_type'] = 'display_data';\n",
              "          await google.colab.output.renderOutput(dataTable, element);\n",
              "          const docLink = document.createElement('div');\n",
              "          docLink.innerHTML = docLinkHtml;\n",
              "          element.appendChild(docLink);\n",
              "        }\n",
              "      </script>\n",
              "    </div>\n",
              "  </div>\n",
              "  "
            ]
          },
          "metadata": {},
          "execution_count": 35
        }
      ]
    },
    {
      "cell_type": "code",
      "source": [
        "total = doc_df.loc['Total'].sort_values(ascending = False)"
      ],
      "metadata": {
        "id": "y01VvyVwhGUX"
      },
      "execution_count": null,
      "outputs": []
    },
    {
      "cell_type": "code",
      "source": [
        "import matplotlib.pyplot as plt"
      ],
      "metadata": {
        "id": "vijhERbohNRy"
      },
      "execution_count": null,
      "outputs": []
    },
    {
      "cell_type": "code",
      "source": [
        "f, ax = plt.subplots(1, 1, figsize = (30, 20))\n",
        "plt.bar(total[:15].index, total[:15])\n",
        "plt.rc('xtick', labelsize = 15)\n",
        "plt.rc('ytick', labelsize = 15)\n",
        "plt.xticks(rotation = 45)\n",
        "plt.show()"
      ],
      "metadata": {
        "colab": {
          "base_uri": "https://localhost:8080/",
          "height": 1000
        },
        "id": "LAgfh6PZhLFm",
        "outputId": "f5b71faf-fcaa-4e6c-fbb8-0312492e94b3"
      },
      "execution_count": null,
      "outputs": [
        {
          "output_type": "display_data",
          "data": {
            "text/plain": [
              "<Figure size 2160x1440 with 1 Axes>"
            ],
            "image/png": "[encoded data removed]"
          },
          "metadata": {
            "needs_background": "light"
          }
        }
      ]
    },
    {
      "cell_type": "markdown",
      "source": [
        "Dari plot, terlihat bahwa terdapat beberapa kejadian besar yang terjadi pada bulan November 2021. Kejadian yang sering dibahas dalam berita diantaranya diangkatnya Jendral Andika Perkasa menjadi panglima TNI, banjir bandang di Kota Batu, dan dugaan pelecehan seksual di Kampus Unri. Topik bahasan lainnya pada bulan November 2021 yaitu kontroversi sopir Vanessa Angel yang selamat dari kecelakaan jalan tol, update COVID-19 Indonesia, UU Cipta Kerja yang dinyatakan inkonstitusional bersyarat, dan naiknya harga minyak goreng hingga Rp24.000 per liter."
      ],
      "metadata": {
        "id": "XVFa26BwznGd"
      }
    },
    {
      "cell_type": "markdown",
      "source": [
        "**Eksplorasi Peubah Duration**"
      ],
      "metadata": {
        "id": "kRJA9SQa3jF1"
      }
    },
    {
      "cell_type": "code",
      "source": [
        "video_kompas.head()"
      ],
      "metadata": {
        "colab": {
          "base_uri": "https://localhost:8080/",
          "height": 337
        },
        "id": "oeCrJhARsdMG",
        "outputId": "a9156df8-bdba-4bf1-bfbe-2a82339ffcfb"
      },
      "execution_count": null,
      "outputs": [
        {
          "output_type": "execute_result",
          "data": {
            "text/plain": [
              "       VideoID                                              Title PublishedAt  \\\n",
              "0  ON6og3IJMjw  Update Corona 28 April 2022: 412 Kasus Baru Co...  2022-04-28   \n",
              "1  s6A90YfBAOY  6 Tips Mudik Naik Motor, Cek Kendaraan Hingga ...  2022-04-28   \n",
              "2  _CHGS_4AuBc  Tol Dalam Kota Mulai Padat, Didominasi Kendara...  2022-04-28   \n",
              "3  3RSP7kgbXuQ  Hati-hati! Lakukan Ini Supaya Terhindar dari P...  2022-04-28   \n",
              "4  O3P3GBwIM74  Waspada Maling Data Pribadi Lewat Aplikasi di ...  2022-04-28   \n",
              "\n",
              "                                                Tags  Duration  Likes  Views  \\\n",
              "0  ['covid 19', 'update corona 28 april 2022', 'v...      79.0      7    729   \n",
              "1  ['hari raya idul fitri', 'mudik', 'mudik lebar...      79.0      6    574   \n",
              "2  ['lalu lintas arus mudik', 'mudik lebaran 2022...     752.0     26   2204   \n",
              "3  ['cara menghindari pencopet', 'modus modus pen...      74.0     12   2354   \n",
              "4  ['11 aplikasi pencuri data pribadi', 'aplikasi...     432.0     13    747   \n",
              "\n",
              "   CommentCount  \n",
              "0             4  \n",
              "1             1  \n",
              "2             1  \n",
              "3             3  \n",
              "4             1  "
            ],
            "text/html": [
              "\n",
              "  <div id=\"df-90c128ef-98aa-49fe-8ea2-1bf66ff453b7\">\n",
              "    <div class=\"colab-df-container\">\n",
              "      <div>\n",
              "<style scoped>\n",
              "    .dataframe tbody tr th:only-of-type {\n",
              "        vertical-align: middle;\n",
              "    }\n",
              "\n",
              "    .dataframe tbody tr th {\n",
              "        vertical-align: top;\n",
              "    }\n",
              "\n",
              "    .dataframe thead th {\n",
              "        text-align: right;\n",
              "    }\n",
              "</style>\n",
              "<table border=\"1\" class=\"dataframe\">\n",
              "  <thead>\n",
              "    <tr style=\"text-align: right;\">\n",
              "      <th></th>\n",
              "      <th>VideoID</th>\n",
              "      <th>Title</th>\n",
              "      <th>PublishedAt</th>\n",
              "      <th>Tags</th>\n",
              "      <th>Duration</th>\n",
              "      <th>Likes</th>\n",
              "      <th>Views</th>\n",
              "      <th>CommentCount</th>\n",
              "    </tr>\n",
              "  </thead>\n",
              "  <tbody>\n",
              "    <tr>\n",
              "      <th>0</th>\n",
              "      <td>ON6og3IJMjw</td>\n",
              "      <td>Update Corona 28 April 2022: 412 Kasus Baru Co...</td>\n",
              "      <td>2022-04-28</td>\n",
              "      <td>['covid 19', 'update corona 28 april 2022', 'v...</td>\n",
              "      <td>79.0</td>\n",
              "      <td>7</td>\n",
              "      <td>729</td>\n",
              "      <td>4</td>\n",
              "    </tr>\n",
              "    <tr>\n",
              "      <th>1</th>\n",
              "      <td>s6A90YfBAOY</td>\n",
              "      <td>6 Tips Mudik Naik Motor, Cek Kendaraan Hingga ...</td>\n",
              "      <td>2022-04-28</td>\n",
              "      <td>['hari raya idul fitri', 'mudik', 'mudik lebar...</td>\n",
              "      <td>79.0</td>\n",
              "      <td>6</td>\n",
              "      <td>574</td>\n",
              "      <td>1</td>\n",
              "    </tr>\n",
              "    <tr>\n",
              "      <th>2</th>\n",
              "      <td>_CHGS_4AuBc</td>\n",
              "      <td>Tol Dalam Kota Mulai Padat, Didominasi Kendara...</td>\n",
              "      <td>2022-04-28</td>\n",
              "      <td>['lalu lintas arus mudik', 'mudik lebaran 2022...</td>\n",
              "      <td>752.0</td>\n",
              "      <td>26</td>\n",
              "      <td>2204</td>\n",
              "      <td>1</td>\n",
              "    </tr>\n",
              "    <tr>\n",
              "      <th>3</th>\n",
              "      <td>3RSP7kgbXuQ</td>\n",
              "      <td>Hati-hati! Lakukan Ini Supaya Terhindar dari P...</td>\n",
              "      <td>2022-04-28</td>\n",
              "      <td>['cara menghindari pencopet', 'modus modus pen...</td>\n",
              "      <td>74.0</td>\n",
              "      <td>12</td>\n",
              "      <td>2354</td>\n",
              "      <td>3</td>\n",
              "    </tr>\n",
              "    <tr>\n",
              "      <th>4</th>\n",
              "      <td>O3P3GBwIM74</td>\n",
              "      <td>Waspada Maling Data Pribadi Lewat Aplikasi di ...</td>\n",
              "      <td>2022-04-28</td>\n",
              "      <td>['11 aplikasi pencuri data pribadi', 'aplikasi...</td>\n",
              "      <td>432.0</td>\n",
              "      <td>13</td>\n",
              "      <td>747</td>\n",
              "      <td>1</td>\n",
              "    </tr>\n",
              "  </tbody>\n",
              "</table>\n",
              "</div>\n",
              "      <button class=\"colab-df-convert\" onclick=\"convertToInteractive('df-90c128ef-98aa-49fe-8ea2-1bf66ff453b7')\"\n",
              "              title=\"Convert this dataframe to an interactive table.\"\n",
              "              style=\"display:none;\">\n",
              "        \n",
              "  <svg xmlns=\"http://www.w3.org/2000/svg\" height=\"24px\"viewBox=\"0 0 24 24\"\n",
              "       width=\"24px\">\n",
              "    <path d=\"M0 0h24v24H0V0z\" fill=\"none\"/>\n",
              "    <path d=\"M18.56 5.44l.94 2.06.94-2.06 2.06-.94-2.06-.94-.94-2.06-.94 2.06-2.06.94zm-11 1L8.5 8.5l.94-2.06 2.06-.94-2.06-.94L8.5 2.5l-.94 2.06-2.06.94zm10 10l.94 2.06.94-2.06 2.06-.94-2.06-.94-.94-2.06-.94 2.06-2.06.94z\"/><path d=\"M17.41 7.96l-1.37-1.37c-.4-.4-.92-.59-1.43-.59-.52 0-1.04.2-1.43.59L10.3 9.45l-7.72 7.72c-.78.78-.78 2.05 0 2.83L4 21.41c.39.39.9.59 1.41.59.51 0 1.02-.2 1.41-.59l7.78-7.78 2.81-2.81c.8-.78.8-2.07 0-2.86zM5.41 20L4 18.59l7.72-7.72 1.47 1.35L5.41 20z\"/>\n",
              "  </svg>\n",
              "      </button>\n",
              "      \n",
              "  <style>\n",
              "    .colab-df-container {\n",
              "      display:flex;\n",
              "      flex-wrap:wrap;\n",
              "      gap: 12px;\n",
              "    }\n",
              "\n",
              "    .colab-df-convert {\n",
              "      background-color: #E8F0FE;\n",
              "      border: none;\n",
              "      border-radius: 50%;\n",
              "      cursor: pointer;\n",
              "      display: none;\n",
              "      fill: #1967D2;\n",
              "      height: 32px;\n",
              "      padding: 0 0 0 0;\n",
              "      width: 32px;\n",
              "    }\n",
              "\n",
              "    .colab-df-convert:hover {\n",
              "      background-color: #E2EBFA;\n",
              "      box-shadow: 0px 1px 2px rgba(60, 64, 67, 0.3), 0px 1px 3px 1px rgba(60, 64, 67, 0.15);\n",
              "      fill: #174EA6;\n",
              "    }\n",
              "\n",
              "    [theme=dark] .colab-df-convert {\n",
              "      background-color: #3B4455;\n",
              "      fill: #D2E3FC;\n",
              "    }\n",
              "\n",
              "    [theme=dark] .colab-df-convert:hover {\n",
              "      background-color: #434B5C;\n",
              "      box-shadow: 0px 1px 3px 1px rgba(0, 0, 0, 0.15);\n",
              "      filter: drop-shadow(0px 1px 2px rgba(0, 0, 0, 0.3));\n",
              "      fill: #FFFFFF;\n",
              "    }\n",
              "  </style>\n",
              "\n",
              "      <script>\n",
              "        const buttonEl =\n",
              "          document.querySelector('#df-90c128ef-98aa-49fe-8ea2-1bf66ff453b7 button.colab-df-convert');\n",
              "        buttonEl.style.display =\n",
              "          google.colab.kernel.accessAllowed ? 'block' : 'none';\n",
              "\n",
              "        async function convertToInteractive(key) {\n",
              "          const element = document.querySelector('#df-90c128ef-98aa-49fe-8ea2-1bf66ff453b7');\n",
              "          const dataTable =\n",
              "            await google.colab.kernel.invokeFunction('convertToInteractive',\n",
              "                                                     [key], {});\n",
              "          if (!dataTable) return;\n",
              "\n",
              "          const docLinkHtml = 'Like what you see? Visit the ' +\n",
              "            '<a target=\"_blank\" href=https://colab.research.google.com/notebooks/data_table.ipynb>data table notebook</a>'\n",
              "            + ' to learn more about interactive tables.';\n",
              "          element.innerHTML = '';\n",
              "          dataTable['output_type'] = 'display_data';\n",
              "          await google.colab.output.renderOutput(dataTable, element);\n",
              "          const docLink = document.createElement('div');\n",
              "          docLink.innerHTML = docLinkHtml;\n",
              "          element.appendChild(docLink);\n",
              "        }\n",
              "      </script>\n",
              "    </div>\n",
              "  </div>\n",
              "  "
            ]
          },
          "metadata": {},
          "execution_count": 39
        }
      ]
    },
    {
      "cell_type": "code",
      "source": [
        "sns.scatterplot(x = 'Duration', y = 'Likes', data = video_kompas)"
      ],
      "metadata": {
        "id": "rjMR4h5KwcC7",
        "colab": {
          "base_uri": "https://localhost:8080/",
          "height": 301
        },
        "outputId": "5898b2a8-8ab5-49e0-91e0-9a2ba59c8c3b"
      },
      "execution_count": null,
      "outputs": [
        {
          "output_type": "execute_result",
          "data": {
            "text/plain": [
              "<matplotlib.axes._subplots.AxesSubplot at 0x7fde01c2f850>"
            ]
          },
          "metadata": {},
          "execution_count": 40
        },
        {
          "output_type": "display_data",
          "data": {
            "text/plain": [
              "<Figure size 432x288 with 1 Axes>"
            ],
            "image/png": "[encoded data removed]"
          },
          "metadata": {
            "needs_background": "light"
          }
        }
      ]
    },
    {
      "cell_type": "code",
      "source": [
        "video_kompas.loc[3185,]"
      ],
      "metadata": {
        "colab": {
          "base_uri": "https://localhost:8080/"
        },
        "id": "D__scT6miPJ3",
        "outputId": "cae7ba64-8e6a-4594-c914-4c35578636bc"
      },
      "execution_count": null,
      "outputs": [
        {
          "output_type": "execute_result",
          "data": {
            "text/plain": [
              "VideoID                                               51RAIarHbTM\n",
              "Title                               Angelina Sondakh: Saya Takut…\n",
              "PublishedAt                                   2022-04-01 00:00:00\n",
              "Tags            ['rosi', 'angelina sondakh', 'talkshow', 'rosi...\n",
              "Duration                                                   3672.0\n",
              "Likes                                                       87214\n",
              "Views                                                     3901513\n",
              "CommentCount                                                19473\n",
              "Name: 3185, dtype: object"
            ]
          },
          "metadata": {},
          "execution_count": 46
        }
      ]
    },
    {
      "cell_type": "code",
      "source": [
        "video_kompas.loc[10354,]"
      ],
      "metadata": {
        "colab": {
          "base_uri": "https://localhost:8080/"
        },
        "id": "wXMDJ_r8i5uc",
        "outputId": "e9f31634-7b71-4164-9725-4aec3317e2df"
      },
      "execution_count": null,
      "outputs": [
        {
          "output_type": "execute_result",
          "data": {
            "text/plain": [
              "VideoID                                               nwaSOl7hzsk\n",
              "Title           Hoax! Pesawat Garuda Indonesia Crash Saat Land...\n",
              "PublishedAt                                   2022-01-20 00:00:00\n",
              "Tags            ['garuda indonesia', 'hoax pesawat jatuh', 'pe...\n",
              "Duration                                                     60.0\n",
              "Likes                                                       86547\n",
              "Views                                                     2966914\n",
              "CommentCount                                                 2055\n",
              "Name: 10354, dtype: object"
            ]
          },
          "metadata": {},
          "execution_count": 47
        }
      ]
    },
    {
      "cell_type": "markdown",
      "source": [
        "Dari scatterplot, terlihat bahwa KompasTV memiliki selang durasi yang lebar yang berarti durasi dari tiap video beragam dari yang hanya 1 menit sampai dengan 8 jam. Video dengan durasi panjang biasanya merupakan video *live stream* yang telah dilakukan. Video berdurasi pendek lebih banyak disukai daripada video-video berdurasi panjang. Terdapat 2 video berdurasi pendek yang mencapai 80.000 likes yaitu video dengan judul \"Angelina Sondakh: Saya Takut…\" dengan durasi 1 jam 1 menit dan \"Hoax! Pesawat Garuda Indonesia Crash Saat Landing #short\" dengan durasi 1 menit. \n"
      ],
      "metadata": {
        "id": "Iilhq3e9hAZz"
      }
    }
  ]
}