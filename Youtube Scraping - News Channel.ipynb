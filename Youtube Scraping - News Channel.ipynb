{
 "cells": [
  {
   "cell_type": "markdown",
   "metadata": {},
   "source": [
    "# Youtube Scraping"
   ]
  },
  {
   "cell_type": "markdown",
   "metadata": {},
   "source": [
    "## Package yang digunakan"
   ]
  },
  {
   "cell_type": "code",
   "execution_count": null,
   "metadata": {},
   "outputs": [],
   "source": [
    "from googleapiclient.discovery import build\n",
    "import pandas as pd\n",
    "import seaborn as sns\n",
    "import numpy"
   ]
  },
  {
   "cell_type": "markdown",
   "metadata": {},
   "source": [
    "## 1. Membuat Lingkungan Virtual Youtube"
   ]
  },
  {
   "cell_type": "code",
   "execution_count": null,
   "metadata": {},
   "outputs": [],
   "source": [
    "api_key = 'xxxxxxxxxxxxxxx'\n",
    "channel_ids = ['UC5BMIWZe9isJXLZZWPWvBlg', #KOMPASTV\n",
    "               'UCKII0Ml9S5wneKbHswmUrIQ', #CNNIndonesia\n",
    "               'UCER4rvDnRBPr_ncYW4UCZjg', #tvOneNews\n",
    "               'UCmxAIW7RDDC88EPk4ry16Kg', #Tribunnews\n",
    "               'UCzl0OrB3-ehunyotIQvK77A', #MetroTV News\n",
    "               'UCK6c4qk3hRaa6fMIEZrhiXQ', #Tribun Timur\n",
    "               'UCGN9JsnkvK05v2lnTI_-uGA', #CNBC Indonesia\n",
    "               'UCuMAjEaSMj7q7YLf0xW1MjQ'  #Detik.com\n",
    "              ]\n",
    "youtube = build('youtube','v3',developerKey=api_key)"
   ]
  },
  {
   "attachments": {
    "image.png": {
     "image/png": "[encoded data removed]"
    }
   },
   "cell_type": "markdown",
   "metadata": {},
   "source": [
    "API key didapatkan dengan cara sebagai berikut:\n",
    "\n",
    "1. Masuklah ke halaman Google Developer Console di link https://console.developers.google.com/ dan login menggunakan akun Google\n",
    "2. Klik tombol Buat Project pada halaman dashboard, isi nama project, lalu klik Buat\n",
    "3. Untuk mendapatkan API Key, klik + AKTIFKAN API DAN LAYANAN atau klik library API pada halaman Project.\n",
    "4. Kemudian kalian scroll ke bagian Youtube, pilih Youtube Data API v3, lalu klik Aktifkan\n",
    "5. Untuk mendapat API, diperlukan credential. Klik tombol Buat Kredensial, pilih Kredensial yang dibutuhkan, untuk project ini hanya diputuhkan API Key biasa untuk data publik.\n",
    "6. Setelah API didapatkan, klik Salin API, selesai.\n",
    "\n",
    "Channel ID didapatkan dengan cara sebagai berikut:\n",
    "\n",
    "1. Buka halaman Youtube\n",
    "2. Pada kolom search, tulis nama channel yang ingin diketahui IDnya.\n",
    "3. Klik channel dari hasil pencarian, link yang dihasilkan akan menghasilkan ID dari channel tersebut. Sebagai contoh: \n",
    "![image.png](attachment:image.png)\n",
    "4. Adakalanya, link youtube dari suatu channel sudah dimodifikasi\n",
    "5. Untuk channel seperti ini, klik pada salah satu video dari channel tersebut, lalu klik logo channel dari halaman video tersebut. Dengan cara itu, channel ID dapat dilihat dari link yang didapatkan."
   ]
  },
  {
   "cell_type": "markdown",
   "metadata": {},
   "source": [
    "## 2. Extract Statistik dari Channel"
   ]
  },
  {
   "cell_type": "markdown",
   "metadata": {},
   "source": [
    "Untuk mendapatkan top 5 channel berita berdasarkan jumlah subscribers nya, kami mengambil 8 channel berita popular lalu mengurutkan berdasarkan jumlah subscribersnya"
   ]
  },
  {
   "cell_type": "code",
   "execution_count": null,
   "metadata": {},
   "outputs": [],
   "source": [
    "## Function to get channel data\n",
    "def get_channel_stats(youtube, channel_ids):\n",
    "    all_data = []\n",
    "    request = youtube.channels().list(\n",
    "                part='snippet,contentDetails,statistics',\n",
    "                id=channel_ids)\n",
    "    response = request.execute()\n",
    "    \n",
    "    for i in range(len(response['items'])):\n",
    "        data = dict(Channel_ID = response['items'][i]['id'],\n",
    "                    Channel_Name = response['items'][i]['snippet']['title'],\n",
    "                    Created_Date = response['items'][i]['snippet']['publishedAt'],\n",
    "                    Subscribers = response['items'][i]['statistics']['subscriberCount'],\n",
    "                    Total_Views = response['items'][i]['statistics']['viewCount'],\n",
    "                    Total_Vid = response['items'][i]['statistics']['videoCount'],\n",
    "                    playlist_id = response['items'][i]['contentDetails']['relatedPlaylists']['uploads'])\n",
    "        all_data.append(data)\n",
    "    \n",
    "    return all_data"
   ]
  },
  {
   "cell_type": "code",
   "execution_count": null,
   "metadata": {},
   "outputs": [],
   "source": [
    "channel_data = pd.DataFrame(get_channel_stats(youtube, channel_ids))"
   ]
  },
  {
   "cell_type": "code",
   "execution_count": null,
   "metadata": {
    "scrolled": true
   },
   "outputs": [],
   "source": [
    "channel_data"
   ]
  },
  {
   "cell_type": "markdown",
   "metadata": {},
   "source": [
    "### Melakukan penyesuaian tipe data pada tiap kolom"
   ]
  },
  {
   "cell_type": "code",
   "execution_count": null,
   "metadata": {},
   "outputs": [],
   "source": [
    "channel_data.dtypes"
   ]
  },
  {
   "cell_type": "code",
   "execution_count": null,
   "metadata": {},
   "outputs": [],
   "source": [
    "channel_data['Created_Date'] = pd.to_datetime(channel_data['Created_Date']).dt.date\n",
    "channel_data['Subscribers'] = pd.to_numeric(channel_data['Subscribers'])\n",
    "channel_data['Total_Views'] = pd.to_numeric(channel_data['Total_Views'])\n",
    "channel_data['Total_Vid'] = pd.to_numeric(channel_data['Total_Vid'])\n",
    "channel_data.dtypes"
   ]
  },
  {
   "cell_type": "code",
   "execution_count": null,
   "metadata": {
    "scrolled": false
   },
   "outputs": [],
   "source": [
    "channel_data"
   ]
  },
  {
   "cell_type": "markdown",
   "metadata": {},
   "source": [
    "### Mengurutkan data berdasarkan jumlah subscribers"
   ]
  },
  {
   "cell_type": "code",
   "execution_count": null,
   "metadata": {
    "scrolled": false
   },
   "outputs": [],
   "source": [
    "channel_data = channel_data.sort_values(by=['Subscribers'], ascending=False)\n",
    "channel_data"
   ]
  },
  {
   "cell_type": "markdown",
   "metadata": {},
   "source": [
    "### Menyimpan data channel ke format csv"
   ]
  },
  {
   "cell_type": "code",
   "execution_count": null,
   "metadata": {},
   "outputs": [],
   "source": [
    "channel_data.to_csv('Top 8 News Channel.csv', index = False)"
   ]
  },
  {
   "cell_type": "code",
   "execution_count": null,
   "metadata": {
    "scrolled": true
   },
   "outputs": [],
   "source": [
    "channel_data = pd.read_csv('Top 8 News Channel.csv')\n",
    "channel_data"
   ]
  },
  {
   "cell_type": "markdown",
   "metadata": {},
   "source": [
    "### Eksplorasi pada data Channel"
   ]
  },
  {
   "cell_type": "code",
   "execution_count": null,
   "metadata": {},
   "outputs": [],
   "source": [
    "sns.set(rc={'figure.figsize':(14,8)})\n",
    "ax = sns.barplot(x='Channel_Name', y='Subscribers', data=channel_data)"
   ]
  },
  {
   "cell_type": "markdown",
   "metadata": {},
   "source": [
    "## 3. Mendapatkan video ids"
   ]
  },
  {
   "cell_type": "code",
   "execution_count": null,
   "metadata": {},
   "outputs": [],
   "source": [
    "playlist_id_kompas = channel_data.loc[channel_data['Channel_Name']=='KOMPASTV','playlist_id'].iloc[0]\n",
    "playlist_id_cnn = channel_data.loc[channel_data['Channel_Name']=='CNN Indonesia','playlist_id'].iloc[0]\n",
    "playlist_id_tvone = channel_data.loc[channel_data['Channel_Name']=='tvOneNews ','playlist_id'].iloc[0]\n",
    "playlist_id_tribun = channel_data.loc[channel_data['Channel_Name']=='Tribunnews','playlist_id'].iloc[0]\n",
    "playlist_id_timur = channel_data.loc[channel_data['Channel_Name']=='Tribun Timur','playlist_id'].iloc[0]"
   ]
  },
  {
   "cell_type": "code",
   "execution_count": null,
   "metadata": {
    "scrolled": true
   },
   "outputs": [],
   "source": [
    "playlist_id_cnn"
   ]
  },
  {
   "cell_type": "code",
   "execution_count": null,
   "metadata": {},
   "outputs": [],
   "source": [
    "def get_video_ids(youtube, playlist_id):\n",
    "    request = youtube.playlistItems().list(\n",
    "        part = 'contentDetails',\n",
    "        playlistId = playlist_id,\n",
    "        maxResults = 50)\n",
    "    response = request.execute()\n",
    "    video_ids = []\n",
    "    for i in range(len(response['items'])):\n",
    "        video_ids.append(response['items'][i]['contentDetails']['videoId'])\n",
    "    next_page_token = response.get('nextPageToken')\n",
    "    \n",
    "    for i in range(400):\n",
    "        request = youtube.playlistItems().list(\n",
    "            part = 'contentDetails',\n",
    "            playlistId = playlist_id,\n",
    "            maxResults = 50,\n",
    "            pageToken = next_page_token)\n",
    "        response = request.execute()\n",
    "        for i in range(len(response['items'])):\n",
    "            video_ids.append(response['items'][i]['contentDetails']['videoId'])\n",
    "        next_page_token = response.get('nextPageToken')\n",
    "    print(next_page_token)\n",
    "\n",
    "    return video_ids"
   ]
  },
  {
   "cell_type": "markdown",
   "metadata": {},
   "source": [
    "Fungsi ini digunakan untuk mengambil video ID dari suatu playlist. Video ID didapatkan dari part contentDetails. Dalam fungsi ini, dilakukan looping 500 kali untuk menghindari limit kuota API."
   ]
  },
  {
   "cell_type": "code",
   "execution_count": null,
   "metadata": {
    "scrolled": true
   },
   "outputs": [],
   "source": [
    "video_ids_cnn = get_video_ids(youtube, playlist_id_cnn)\n",
    "video_ids_cnn"
   ]
  },
  {
   "cell_type": "code",
   "execution_count": null,
   "metadata": {
    "scrolled": true
   },
   "outputs": [],
   "source": [
    "cnn_videos_id = pd.DataFrame(video_ids_cnn)\n",
    "cnn_videos_id"
   ]
  },
  {
   "cell_type": "markdown",
   "metadata": {},
   "source": [
    "### Menyimpan video id ke format csv"
   ]
  },
  {
   "cell_type": "code",
   "execution_count": null,
   "metadata": {},
   "outputs": [],
   "source": [
    "cnn_videos_id = cnn_videos_id.to_csv('CNN Videos ID.csv', index = False)\n",
    "cnn_videos_id"
   ]
  },
  {
   "cell_type": "code",
   "execution_count": null,
   "metadata": {},
   "outputs": [],
   "source": [
    "cnn_videos_id"
   ]
  },
  {
   "cell_type": "code",
   "execution_count": null,
   "metadata": {},
   "outputs": [],
   "source": [
    "cnn_vid_id.values.tolist()"
   ]
  },
  {
   "cell_type": "markdown",
   "metadata": {},
   "source": [
    "## 4. Mendapatkan Detail Video dari video id"
   ]
  },
  {
   "cell_type": "code",
   "execution_count": null,
   "metadata": {},
   "outputs": [],
   "source": [
    "def get_video_details(youtube, video_ids):\n",
    "  all_video_stats = []\n",
    "  for i in range(0, len(video_ids), 50):\n",
    "    request = youtube.videos().list(\n",
    "        part = 'snippet, statistics, contentDetails',\n",
    "        id = ','.join(video_ids[i:i+50]))\n",
    "    response = request.execute()\n",
    "    for i in range(len(response['items'])):\n",
    "      try: \n",
    "        Tags = response['items'][i]['snippet']['tags']\n",
    "      except KeyError:\n",
    "        Tags = 'Tidak ada tag / tag tidak diizinkan'\n",
    "      try:\n",
    "        Likes = response['items'][i]['statistics']['likeCount']\n",
    "      except KeyError:\n",
    "        Likes = 'Like Count tidak diizinkan'\n",
    "      try:\n",
    "        Views = response['items'][i]['statistics']['viewCount']\n",
    "      except KeyError:\n",
    "        Views = 'View Count tidak diizinkan'\n",
    "      try:\n",
    "        CommentCount = response['items'][i]['statistics']['commentCount']\n",
    "      except KeyError:\n",
    "        CommentCount = 'Comment Count tidak diizinkan'\n",
    "      video_details = dict(VideoID = response['items'][i]['id'],\n",
    "                           Title = response['items'][i]['snippet']['title'],\n",
    "                           PublishedAt = response['items'][i]['snippet']['publishedAt'],\n",
    "                           Tags = Tags,\n",
    "                           Duration = response['items'][i]['contentDetails']['duration'],\n",
    "                           Likes = Likes,\n",
    "                           Views = Views,\n",
    "                           CommentCount = CommentCount)\n",
    "      \n",
    "      all_video_stats.append(video_details)\n",
    "\n",
    "  return all_video_stats"
   ]
  },
  {
   "cell_type": "markdown",
   "metadata": {},
   "source": [
    "fungsi \"try\" dan \"except\" digunakan karena ada beberapa video yang tidak mengizinkan untuk mendapatkan variable tertentu"
   ]
  },
  {
   "cell_type": "code",
   "execution_count": null,
   "metadata": {
    "scrolled": true
   },
   "outputs": [],
   "source": [
    "videos_detail_cnn = get_video_details(youtube, video_ids_cnn)\n",
    "videos_data_cnn = pd.DataFrame(videos_detail_cnn)"
   ]
  },
  {
   "cell_type": "markdown",
   "metadata": {},
   "source": [
    "### Melakukan penyesuaian tipe data"
   ]
  },
  {
   "cell_type": "code",
   "execution_count": null,
   "metadata": {
    "scrolled": true
   },
   "outputs": [],
   "source": [
    "videos_data_cnn['PublishedAt'] = pd.to_datetime(videos_data_cnn['PublishedAt']).dt.date\n",
    "videos_data_cnn['Views'] = pd.to_numeric(videos_data_cnn['Views'])"
   ]
  },
  {
   "cell_type": "code",
   "execution_count": null,
   "metadata": {
    "scrolled": true
   },
   "outputs": [],
   "source": [
    "import isodate\n",
    "videos_data_cnn['Duration'] = videos_data_cnn['Duration'].apply(\n",
    "    lambda row: isodate.parse_duration(row).total_seconds()\n",
    ")"
   ]
  },
  {
   "cell_type": "code",
   "execution_count": 9,
   "metadata": {
    "scrolled": true
   },
   "outputs": [
    {
     "data": {
      "text/html": [
       "<div>\n",
       "<style scoped>\n",
       "    .dataframe tbody tr th:only-of-type {\n",
       "        vertical-align: middle;\n",
       "    }\n",
       "\n",
       "    .dataframe tbody tr th {\n",
       "        vertical-align: top;\n",
       "    }\n",
       "\n",
       "    .dataframe thead th {\n",
       "        text-align: right;\n",
       "    }\n",
       "</style>\n",
       "<table border=\"1\" class=\"dataframe\">\n",
       "  <thead>\n",
       "    <tr style=\"text-align: right;\">\n",
       "      <th></th>\n",
       "      <th>VideoID</th>\n",
       "      <th>Title</th>\n",
       "      <th>PublishedAt</th>\n",
       "      <th>Tags</th>\n",
       "      <th>Duration</th>\n",
       "      <th>Likes</th>\n",
       "      <th>Views</th>\n",
       "      <th>CommentCount</th>\n",
       "    </tr>\n",
       "  </thead>\n",
       "  <tbody>\n",
       "    <tr>\n",
       "      <th>0</th>\n",
       "      <td>U3c-NvIgFrg</td>\n",
       "      <td>Kesejukan Masjid Namira</td>\n",
       "      <td>2022-04-22</td>\n",
       "      <td>Tidak ada tag / tag tidak diizinkan</td>\n",
       "      <td>223.0</td>\n",
       "      <td>96</td>\n",
       "      <td>2025</td>\n",
       "      <td>15</td>\n",
       "    </tr>\n",
       "    <tr>\n",
       "      <th>1</th>\n",
       "      <td>HhwShDlAN6w</td>\n",
       "      <td>Keterbatasan Tidak Jadi Penghalang untuk Berkarya</td>\n",
       "      <td>2022-04-22</td>\n",
       "      <td>Tidak ada tag / tag tidak diizinkan</td>\n",
       "      <td>414.0</td>\n",
       "      <td>6</td>\n",
       "      <td>531</td>\n",
       "      <td>0</td>\n",
       "    </tr>\n",
       "    <tr>\n",
       "      <th>2</th>\n",
       "      <td>3bT0eTWmvHA</td>\n",
       "      <td>Diperiksa 2 Jam, Rossa Siap Kembalikan Uang da...</td>\n",
       "      <td>2022-04-22</td>\n",
       "      <td>['rossa', 'dna pro', 'bareskrim polri', 'polri']</td>\n",
       "      <td>104.0</td>\n",
       "      <td>10</td>\n",
       "      <td>1127</td>\n",
       "      <td>4</td>\n",
       "    </tr>\n",
       "    <tr>\n",
       "      <th>3</th>\n",
       "      <td>TCfkAfF2w44</td>\n",
       "      <td>Kejagung Ungkap Alasan Dirjen Kemendag Tersang...</td>\n",
       "      <td>2022-04-22</td>\n",
       "      <td>['Kejagung', 'Kasus Izin CPO', 'Kasus Minyak G...</td>\n",
       "      <td>130.0</td>\n",
       "      <td>40</td>\n",
       "      <td>4434</td>\n",
       "      <td>37</td>\n",
       "    </tr>\n",
       "    <tr>\n",
       "      <th>4</th>\n",
       "      <td>dIL76oV02vk</td>\n",
       "      <td>Arus Mudik Mulai Terlihat di Beberapa Lokasi</td>\n",
       "      <td>2022-04-22</td>\n",
       "      <td>['mudik', 'mudik lebaran', 'mudik lebaran 2022...</td>\n",
       "      <td>110.0</td>\n",
       "      <td>113</td>\n",
       "      <td>4433</td>\n",
       "      <td>23</td>\n",
       "    </tr>\n",
       "    <tr>\n",
       "      <th>...</th>\n",
       "      <td>...</td>\n",
       "      <td>...</td>\n",
       "      <td>...</td>\n",
       "      <td>...</td>\n",
       "      <td>...</td>\n",
       "      <td>...</td>\n",
       "      <td>...</td>\n",
       "      <td>...</td>\n",
       "    </tr>\n",
       "    <tr>\n",
       "      <th>19835</th>\n",
       "      <td>7IngHpQjgLk</td>\n",
       "      <td>Gajah Indonesia Diambang Kepunahan</td>\n",
       "      <td>2020-08-12</td>\n",
       "      <td>['Indonesia', 'cnn indonesia', 'berita', 'beri...</td>\n",
       "      <td>272.0</td>\n",
       "      <td>115</td>\n",
       "      <td>10091</td>\n",
       "      <td>43</td>\n",
       "    </tr>\n",
       "    <tr>\n",
       "      <th>19836</th>\n",
       "      <td>esY1NN-CekE</td>\n",
       "      <td>Bawaslu Temukan Ribuan Data Pemilih Bermasalah</td>\n",
       "      <td>2020-08-12</td>\n",
       "      <td>['Indonesia', 'cnn indonesia', 'berita', 'beri...</td>\n",
       "      <td>272.0</td>\n",
       "      <td>30</td>\n",
       "      <td>2939</td>\n",
       "      <td>20</td>\n",
       "    </tr>\n",
       "    <tr>\n",
       "      <th>19837</th>\n",
       "      <td>dfP7rDyNGr4</td>\n",
       "      <td>Mengukur Efektivitas Rapid Test Antigen</td>\n",
       "      <td>2020-08-12</td>\n",
       "      <td>['Indonesia', 'cnn indonesia', 'berita', 'beri...</td>\n",
       "      <td>447.0</td>\n",
       "      <td>190</td>\n",
       "      <td>46835</td>\n",
       "      <td>75</td>\n",
       "    </tr>\n",
       "    <tr>\n",
       "      <th>19838</th>\n",
       "      <td>XuJ8vMBZ2qk</td>\n",
       "      <td>Okupansi Hotel di Pulau Dewata Mulai Meningkat</td>\n",
       "      <td>2020-08-12</td>\n",
       "      <td>['Indonesia', 'cnn indonesia', 'berita', 'beri...</td>\n",
       "      <td>578.0</td>\n",
       "      <td>95</td>\n",
       "      <td>4629</td>\n",
       "      <td>17</td>\n",
       "    </tr>\n",
       "    <tr>\n",
       "      <th>19839</th>\n",
       "      <td>6Wg1d-Mc9lM</td>\n",
       "      <td>Gibran Tanggapi Opini Melawan Kotak Kosong</td>\n",
       "      <td>2020-08-12</td>\n",
       "      <td>['Indonesia', 'cnn indonesia', 'berita', 'beri...</td>\n",
       "      <td>28.0</td>\n",
       "      <td>19</td>\n",
       "      <td>2700</td>\n",
       "      <td>23</td>\n",
       "    </tr>\n",
       "  </tbody>\n",
       "</table>\n",
       "<p>19840 rows × 8 columns</p>\n",
       "</div>"
      ],
      "text/plain": [
       "           VideoID                                              Title  \\\n",
       "0      U3c-NvIgFrg                            Kesejukan Masjid Namira   \n",
       "1      HhwShDlAN6w  Keterbatasan Tidak Jadi Penghalang untuk Berkarya   \n",
       "2      3bT0eTWmvHA  Diperiksa 2 Jam, Rossa Siap Kembalikan Uang da...   \n",
       "3      TCfkAfF2w44  Kejagung Ungkap Alasan Dirjen Kemendag Tersang...   \n",
       "4      dIL76oV02vk       Arus Mudik Mulai Terlihat di Beberapa Lokasi   \n",
       "...            ...                                                ...   \n",
       "19835  7IngHpQjgLk                 Gajah Indonesia Diambang Kepunahan   \n",
       "19836  esY1NN-CekE     Bawaslu Temukan Ribuan Data Pemilih Bermasalah   \n",
       "19837  dfP7rDyNGr4            Mengukur Efektivitas Rapid Test Antigen   \n",
       "19838  XuJ8vMBZ2qk     Okupansi Hotel di Pulau Dewata Mulai Meningkat   \n",
       "19839  6Wg1d-Mc9lM         Gibran Tanggapi Opini Melawan Kotak Kosong   \n",
       "\n",
       "      PublishedAt                                               Tags  \\\n",
       "0      2022-04-22                Tidak ada tag / tag tidak diizinkan   \n",
       "1      2022-04-22                Tidak ada tag / tag tidak diizinkan   \n",
       "2      2022-04-22   ['rossa', 'dna pro', 'bareskrim polri', 'polri']   \n",
       "3      2022-04-22  ['Kejagung', 'Kasus Izin CPO', 'Kasus Minyak G...   \n",
       "4      2022-04-22  ['mudik', 'mudik lebaran', 'mudik lebaran 2022...   \n",
       "...           ...                                                ...   \n",
       "19835  2020-08-12  ['Indonesia', 'cnn indonesia', 'berita', 'beri...   \n",
       "19836  2020-08-12  ['Indonesia', 'cnn indonesia', 'berita', 'beri...   \n",
       "19837  2020-08-12  ['Indonesia', 'cnn indonesia', 'berita', 'beri...   \n",
       "19838  2020-08-12  ['Indonesia', 'cnn indonesia', 'berita', 'beri...   \n",
       "19839  2020-08-12  ['Indonesia', 'cnn indonesia', 'berita', 'beri...   \n",
       "\n",
       "       Duration  Likes  Views CommentCount  \n",
       "0         223.0     96   2025           15  \n",
       "1         414.0      6    531            0  \n",
       "2         104.0     10   1127            4  \n",
       "3         130.0     40   4434           37  \n",
       "4         110.0    113   4433           23  \n",
       "...         ...    ...    ...          ...  \n",
       "19835     272.0    115  10091           43  \n",
       "19836     272.0     30   2939           20  \n",
       "19837     447.0    190  46835           75  \n",
       "19838     578.0     95   4629           17  \n",
       "19839      28.0     19   2700           23  \n",
       "\n",
       "[19840 rows x 8 columns]"
      ]
     },
     "execution_count": 9,
     "metadata": {},
     "output_type": "execute_result"
    }
   ],
   "source": [
    "videos_data_cnn"
   ]
  }
 ],
 "metadata": {
  "kernelspec": {
   "display_name": "Python 3",
   "language": "python",
   "name": "python3"
  },
  "language_info": {
   "codemirror_mode": {
    "name": "ipython",
    "version": 3
   },
   "file_extension": ".py",
   "mimetype": "text/x-python",
   "name": "python",
   "nbconvert_exporter": "python",
   "pygments_lexer": "ipython3",
   "version": "3.8.3"
  }
 },
 "nbformat": 4,
 "nbformat_minor": 4
}
